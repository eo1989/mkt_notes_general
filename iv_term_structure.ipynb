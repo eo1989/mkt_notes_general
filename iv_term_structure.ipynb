{
 "cells": [
  {
   "cell_type": "raw",
   "metadata": {
    "vscode": {
     "languageId": "raw"
    }
   },
   "source": [
    "---\n",
    "title: \"iv term structure\"\n",
    "format: html\n",
    "jupyter: WinPy3.12sys\n",
    "---"
   ]
  },
  {
   "cell_type": "code",
   "execution_count": 1,
   "metadata": {},
   "outputs": [],
   "source": [
    "import yfinance as yf\n",
    "import time\n",
    "import math\n",
    "import pandas as pd\n",
    "from datetime import date, datetime\n",
    "from yahoo_fin import options\n",
    "import numpy as np\n",
    "\n",
    "import matplotlib.pyplot as plt\n",
    "\n",
    "from warnings import filterwarnings\n",
    "\n",
    "filterwarnings(\"ignore\")"
   ]
  },
  {
   "cell_type": "code",
   "execution_count": 2,
   "metadata": {},
   "outputs": [
    {
     "name": "stdout",
     "output_type": "stream",
     "text": [
      "2024-05-06\n"
     ]
    }
   ],
   "source": [
    "symbol = \"GME\"\n",
    "RFR = math.e ** (0.0525) - 1\n",
    "\n",
    "ticker_yahoo = yf.Ticker(symbol)\n",
    "data = ticker_yahoo.history()\n",
    "\n",
    "TODAY = data.index[len(data) - 1].date()\n",
    "print(TODAY)\n",
    "\n",
    "_price = data[\"Close\"].iloc[-1]\n",
    "# print(type(_price))\n",
    "\n",
    "# __price = (data['Close'].iloc[-1]).round(2)\n",
    "# print(type(__price))"
   ]
  },
  {
   "cell_type": "code",
   "execution_count": 3,
   "metadata": {},
   "outputs": [],
   "source": [
    "def _get_iv(chain):\n",
    "    \"\"\"get_iv(Object)\n",
    "    @param Object: chain, an objcet from options.get_options_chain()\n",
    "    Returns implied volatility as float\n",
    "    \"\"\"\n",
    "    iv = None\n",
    "    for i in range(len(chain) - 1):\n",
    "        c = chain[\"Strike\"]\n",
    "        if c[i + 1] >= _price and c[i] <= _price:\n",
    "            iv = chain[\"Implied Volatility\"][i]\n",
    "            break\n",
    "    return float(iv.strip(\"%\")) / 100"
   ]
  },
  {
   "cell_type": "code",
   "execution_count": 4,
   "metadata": {},
   "outputs": [],
   "source": [
    "def get_iv(type_options):\n",
    "    \"\"\"get_iv(str)\n",
    "    @param str: type_options, a string to specify either \"calls\" or \"puts\"\n",
    "    Returns tuple of (A) list of expiry dates, and (B) a list of volatilites (iv)\n",
    "    \"\"\"\n",
    "    list_iv = []\n",
    "    list_expdates = []\n",
    "    # date_expir_str: str\n",
    "    for date_expire_str in options.get_expiration_dates(symbol):\n",
    "        tmp = options.get_options_chain(symbol, date_expire_str[:5])[type_options]\n",
    "        iv = _get_iv(tmp)\n",
    "        list_expdates.append(date_expire_str)\n",
    "        list_iv.append(iv)\n",
    "        print(f\"{date_expire_str}; ATM Call; IV: {iv:.3f}\")\n",
    "    return (list_expdates, list_iv)"
   ]
  },
  {
   "cell_type": "code",
   "execution_count": 5,
   "metadata": {},
   "outputs": [
    {
     "ename": "NameError",
     "evalue": "name 'HTMLSession' is not defined",
     "output_type": "error",
     "traceback": [
      "\u001b[1;31m---------------------------------------------------------------------------\u001b[0m",
      "\u001b[1;31mNameError\u001b[0m                                 Traceback (most recent call last)",
      "Cell \u001b[1;32mIn[5], line 1\u001b[0m\n\u001b[1;32m----> 1\u001b[0m list1, list2 \u001b[38;5;241m=\u001b[39m \u001b[43mget_iv\u001b[49m\u001b[43m(\u001b[49m\u001b[38;5;124;43m\"\u001b[39;49m\u001b[38;5;124;43mcalls\u001b[39;49m\u001b[38;5;124;43m\"\u001b[39;49m\u001b[43m)\u001b[49m\n",
      "Cell \u001b[1;32mIn[4], line 9\u001b[0m, in \u001b[0;36mget_iv\u001b[1;34m(type_options)\u001b[0m\n\u001b[0;32m      7\u001b[0m list_expdates \u001b[38;5;241m=\u001b[39m []\n\u001b[0;32m      8\u001b[0m \u001b[38;5;66;03m# date_expir_str: str\u001b[39;00m\n\u001b[1;32m----> 9\u001b[0m \u001b[38;5;28;01mfor\u001b[39;00m date_expire_str \u001b[38;5;129;01min\u001b[39;00m \u001b[43moptions\u001b[49m\u001b[38;5;241;43m.\u001b[39;49m\u001b[43mget_expiration_dates\u001b[49m\u001b[43m(\u001b[49m\u001b[43msymbol\u001b[49m\u001b[43m)\u001b[49m:\n\u001b[0;32m     10\u001b[0m     tmp \u001b[38;5;241m=\u001b[39m options\u001b[38;5;241m.\u001b[39mget_options_chain(symbol, date_expire_str[:\u001b[38;5;241m5\u001b[39m])[type_options]\n\u001b[0;32m     11\u001b[0m     iv \u001b[38;5;241m=\u001b[39m _get_iv(tmp)\n",
      "File \u001b[1;32mc:\\Users\\eorlo\\.pyenv\\pyenv-win\\versions\\3.12.0\\Lib\\site-packages\\yahoo_fin\\options.py:101\u001b[0m, in \u001b[0;36mget_expiration_dates\u001b[1;34m(ticker)\u001b[0m\n\u001b[0;32m     95\u001b[0m \u001b[38;5;250m\u001b[39m\u001b[38;5;124;03m\"\"\"Scrapes the expiration dates from each option chain for input ticker\u001b[39;00m\n\u001b[0;32m     96\u001b[0m \u001b[38;5;124;03m\u001b[39;00m\n\u001b[0;32m     97\u001b[0m \u001b[38;5;124;03m   @param: ticker\"\"\"\u001b[39;00m\n\u001b[0;32m     99\u001b[0m site \u001b[38;5;241m=\u001b[39m build_options_url(ticker)\n\u001b[1;32m--> 101\u001b[0m session \u001b[38;5;241m=\u001b[39m \u001b[43mHTMLSession\u001b[49m()\n\u001b[0;32m    102\u001b[0m resp \u001b[38;5;241m=\u001b[39m session\u001b[38;5;241m.\u001b[39mget(site)\n\u001b[0;32m    104\u001b[0m html \u001b[38;5;241m=\u001b[39m resp\u001b[38;5;241m.\u001b[39mhtml\u001b[38;5;241m.\u001b[39mraw_html\u001b[38;5;241m.\u001b[39mdecode()\n",
      "\u001b[1;31mNameError\u001b[0m: name 'HTMLSession' is not defined"
     ]
    }
   ],
   "source": [
    "list1, list2 = get_iv(\"calls\")"
   ]
  },
  {
   "cell_type": "code",
   "execution_count": null,
   "metadata": {},
   "outputs": [],
   "source": [
    "# pd.DataFrame({\"Expiry\": list1, \"Implied Volatility\": list2}).plot(\n",
    "#     x=\"Expiry\",\n",
    "#     y=\"Implied Volatility\",\n",
    "#     kind=\"line\",\n",
    "#     xlabel=\"Expiration Date\",\n",
    "#     ylabel=\"Implied Volatility\",\n",
    "# )"
   ]
  },
  {
   "cell_type": "code",
   "execution_count": null,
   "metadata": {},
   "outputs": [],
   "source": [
    "# np.average(np.array(list2))"
   ]
  },
  {
   "cell_type": "code",
   "execution_count": null,
   "metadata": {},
   "outputs": [],
   "source": [
    "# list1, list2 = get_iv(\"puts\")\n",
    "\n",
    "# pd.DataFrame({\"Expiry\": list1, \"Implied Volatility\": list2}).plot(\n",
    "#     x=\"Expiry\",\n",
    "#     y=\"Implied Volatility\",\n",
    "#     kind=\"line\",\n",
    "#     xlabel=\"Expiration Date\",\n",
    "#     ylabel=\"Implied Volatility\",\n",
    "# )"
   ]
  },
  {
   "cell_type": "code",
   "execution_count": null,
   "metadata": {},
   "outputs": [],
   "source": [
    "# np.average(np.array(list2))"
   ]
  },
  {
   "cell_type": "code",
   "execution_count": null,
   "metadata": {},
   "outputs": [],
   "source": [
    "# date(2024, 2, 22)\n",
    "\n",
    "\n",
    "def get_data(con_type: str):\n",
    "    chains, list_ttm, list_moneyness, list_iv = {}, [], [], []\n",
    "\n",
    "    for date_expire_str in options.get_expiration_dates(symbol):\n",
    "        chain = options.get_options_chain(symbol, date_expire_str)[con_type]\n",
    "        _exp_date = datetime.strptime(\n",
    "            date_expire_str, \"%B %d, %Y\"\n",
    "        ).date()  # .replace(tzinfo=)  # noqa: DTZ007\n",
    "        ttm = (date(_exp_date.year, _exp_date.month, _exp_date.day) - TODAY).days\n",
    "\n",
    "        chains[ttm] = chain\n",
    "\n",
    "        for i in range(len(chain) - 1):\n",
    "            iv = float(chain[\"Implied Volatility\"][i].strip(\"%\"))\n",
    "            if iv < 100:\n",
    "                k = chain[\"Strike\"][i]\n",
    "                list_ttm.append(ttm)\n",
    "                list_moneyness.append(_price / k)\n",
    "                list_iv.append(iv)\n",
    "    return (chains, list_ttm, list_moneyness, list_iv)"
   ]
  },
  {
   "cell_type": "code",
   "execution_count": null,
   "metadata": {},
   "outputs": [],
   "source": [
    "def do_plots(chains, list_ttm, list_moneyness, list_iv):\n",
    "    list_x_atm, list_y_atm = [], []\n",
    "\n",
    "    for ttm in chains.keys():\n",
    "        _df = chains[ttm]\n",
    "        df_filtered = _df[(_df[\"Strike\"] > _price)]\n",
    "        list_x_atm.append(ttm)\n",
    "        list_y_atm.append(\n",
    "            float(df_filtered[\"Implied Volatility\"][df_filtered.index[0]].strip(\"%\"))\n",
    "        )\n",
    "\n",
    "    plt.plot(list_x_atm, list_y_atm, label=\"ATM Strike: \" + con_type)\n",
    "    plt.legend()\n",
    "    plt.xlabel(\"Time to Maturity (days)\")\n",
    "    plt.ylabel(\"Implied Volatility (%)\")\n",
    "    plt.show()\n",
    "\n",
    "    fig = plt.figure(figsize=(20, 10))\n",
    "    ax = fig.add_subplot(projection=\"3d\")\n",
    "    for i in range(len(list_ttm) - 1):\n",
    "        ax.scatter(list_ttm[i], list_moneyness[i], list_iv[i], c=\"b\", marker=\"o\")\n",
    "\n",
    "    ax.set_xlabel(\"Time to Maturity (Days)\")\n",
    "    ax.set_ylabel(\"Moneyness\")\n",
    "    ax.set_zlabel(\"Implied Volatility (%)\")\n",
    "    plt.show()\n",
    "\n",
    "    fig = plt.figure(figsize=(20, 10))\n",
    "    ax = fig.add_subplot(projection=\"3d\")\n",
    "    for i in range(len(list_ttm) - 1):\n",
    "        ax.scatter(list_moneyness[i], list_ttm[i], list_iv[i], marker=\"o\")\n",
    "\n",
    "    ax.set_xlabel(\"Moneyness\")\n",
    "    ax.set_ylabel(\"Time to Maturity (Days)\")\n",
    "    ax.set_zlabel(\"Implied Volatility (%)\")\n",
    "    plt.show()"
   ]
  },
  {
   "cell_type": "code",
   "execution_count": null,
   "metadata": {},
   "outputs": [],
   "source": [
    "con_type = \"calls\"\n",
    "chains_calls, ttm_calls, moneyness_calls, iv_calls = get_data(con_type)\n",
    "do_plots(chains_calls, ttm_calls, moneyness_calls, iv_calls)"
   ]
  },
  {
   "cell_type": "code",
   "execution_count": null,
   "metadata": {},
   "outputs": [],
   "source": [
    "con_type = \"puts\"\n",
    "chains_puts, ttm_puts, moneyness_puts, iv_puts = get_data(con_type)\n",
    "do_plots(chains_puts, ttm_puts, moneyness_puts, iv_puts)"
   ]
  },
  {
   "cell_type": "code",
   "execution_count": null,
   "metadata": {},
   "outputs": [],
   "source": []
  }
 ],
 "metadata": {
  "kernelspec": {
   "display_name": "Python 3",
   "language": "python",
   "name": "python3"
  },
  "language_info": {
   "codemirror_mode": {
    "name": "ipython",
    "version": 3
   },
   "file_extension": ".py",
   "mimetype": "text/x-python",
   "name": "python",
   "nbconvert_exporter": "python",
   "pygments_lexer": "ipython3",
   "version": "3.12.5"
  }
 },
 "nbformat": 4,
 "nbformat_minor": 2
}
