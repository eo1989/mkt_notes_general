{
 "cells": [
  {
   "cell_type": "code",
   "execution_count": 1,
   "metadata": {},
   "outputs": [],
   "source": [
    "using Printf\n",
    "using Random\n",
    "using LinearAlgebra"
   ]
  },
  {
   "cell_type": "code",
   "execution_count": 2,
   "metadata": {},
   "outputs": [
    {
     "data": {
      "text/plain": [
       "eig_T (generic function with 1 method)"
      ]
     },
     "metadata": {},
     "output_type": "display_data"
    }
   ],
   "source": [
    "function compute_Tk(A, q, kmax)\n",
    "    T = zeros(kmax, kmax)\n",
    "    r = copy(q[:, 1])\n",
    "    β = norm(r)\n",
    "    q1 = zeros(n)\n",
    "\n",
    "    for k in 1:kmax\n",
    "        q0 = copy(q1)\n",
    "        q1 = r / β\n",
    "        r = A * q1\n",
    "        α = dot(q1, r)\n",
    "        T[k, k] = α\n",
    "        if k > 1\n",
    "            T[k-1, k] = β\n",
    "            T[k, k-1] = β\n",
    "        end\n",
    "        r = r - α * q1 - β * q0\n",
    "        β = norm(r)\n",
    "    end\n",
    "    return T\n",
    "end\n",
    "\n",
    "function eig_T(T, k)\n",
    "    Tk = T[1:k, 1:k]\n",
    "    L = eigen(Tk).values  # Eigenvalue estimates at step k\n",
    "    return L\n",
    "end"
   ]
  },
  {
   "cell_type": "code",
   "execution_count": 3,
   "metadata": {},
   "outputs": [],
   "source": [
    "n = 32\n",
    "rng = MersenneTwister(18);\n",
    "Q, = qr(rand(n, n))\n",
    "\n",
    "# D = cos.(LinRange(0, π, n))\n",
    "# D[div(n, 2)] = 2\n",
    "# D = cos.(LinRange(0, π/2, n))\n",
    "D = LinRange(-1, 1, n) .^ 3\n",
    "\n",
    "x = LinRange(0, 1, n)\n",
    "\n",
    "A = Q * diagm(0 => D) * Q'\n",
    "\n",
    "q = zeros(n, n)\n",
    "q[:, 1] = rand(n)\n",
    "q[:, 1] /= norm(q[:, 1])\n",
    "\n",
    "Tk = compute_Tk(A, q, n);"
   ]
  },
  {
   "cell_type": "code",
   "execution_count": 4,
   "metadata": {},
   "outputs": [
    {
     "name": "stdout",
     "output_type": "stream",
     "text": [
      "norm(D - D1) / norm(D) = 0.35082257153669305\n"
     ]
    },
    {
     "data": {
      "text/plain": [
       "0.35082257153669305"
      ]
     },
     "metadata": {},
     "output_type": "display_data"
    }
   ],
   "source": [
    "D = eigen(A).values;\n",
    "D1 = eigen(Tk).values;\n",
    "sort!(D);\n",
    "sort!(D1);\n",
    "@show norm(D - D1) / norm(D)"
   ]
  },
  {
   "cell_type": "code",
   "execution_count": 6,
   "metadata": {},
   "outputs": [
    {
     "ename": "LoadError",
     "evalue": "LoadError: UndefVarError: `Style` not defined in `Main`\nSuggestion: check for spelling errors or missing imports.\nin expression starting at c:\\Users\\eo\\Dev\\mkt_notes_general\\plotly_style_plot.jl:4",
     "output_type": "error",
     "traceback": [
      "LoadError: UndefVarError: `Style` not defined in `Main`\n",
      "Suggestion: check for spelling errors or missing imports.\n",
      "in expression starting at c:\\Users\\eo\\Dev\\mkt_notes_general\\plotly_style_plot.jl:4\n",
      "\n",
      "Stacktrace:\n",
      " [1] top-level scope\n",
      "   @ c:\\Users\\eo\\Dev\\mkt_notes_general\\plotly_style_plot.jl:15"
     ]
    }
   ],
   "source": [
    "include(\"./plotly_style_plot.jl\")\n",
    "output = false"
   ]
  },
  {
   "cell_type": "code",
   "execution_count": null,
   "metadata": {},
   "outputs": [],
   "source": [
    "L = zeros(n, n)\n",
    "for"
   ]
  }
 ],
 "metadata": {
  "kernelspec": {
   "display_name": "Julia 1.11.2",
   "language": "julia",
   "name": "julia-1.11"
  },
  "language_info": {
   "file_extension": ".jl",
   "mimetype": "application/julia",
   "name": "julia",
   "version": "1.11.2"
  }
 },
 "nbformat": 4,
 "nbformat_minor": 2
}
