{
 "cells": [
  {
   "cell_type": "code",
   "execution_count": 1,
   "metadata": {},
   "outputs": [],
   "source": [
    "def is_even(n) -> bool:\n",
    "    return not n & 1\n",
    "\n",
    "\n",
    "def is_power(n) -> bool:\n",
    "    if n & (n - 1) == 0:\n",
    "        return True\n",
    "    return False"
   ]
  },
  {
   "cell_type": "code",
   "execution_count": 2,
   "metadata": {},
   "outputs": [],
   "source": [
    "import matplotlib.pyplot as plt\n",
    "import numpy as np\n",
    "import scipy.stats as st\n",
    "import seaborn as sns\n",
    "from scipy.optimize import minimize\n",
    "\n",
    "# sns.set_context(\"notebook\")\n",
    "\n",
    "sns.set_theme(\"notebook\", style=\"whitegrid\")\n"
   ]
  },
  {
   "cell_type": "code",
   "execution_count": 3,
   "metadata": {},
   "outputs": [],
   "source": [
    "# def bsm_call(\n",
    "#     S: float | np.ndarray, K: float | np.ndarray, T: float | np.ndarray, r: float, sigma: float | np.ndarray\n",
    "# ) -> float | np.ndarray:\n",
    "#     \"\"\"\n",
    "#     S: stock/underlying\n",
    "#     K: strike\n",
    "#     T: TTM\n",
    "#     r: RFR\n",
    "#     sigma: volatility of S || underlying\n",
    "#     \"\"\"\n",
    "#     d1 = (np.log(S / K) + (r + 0.5**sigma**2) * T) / (sigma * np.sqrt(T))\n",
    "#     d2 = d1 - sigma * np.sqrt(T)\n",
    "#     call_price = S * st.norm.cdf(d1) - K * np.exp(-r * T) * st.norm.cdf(d2)\n",
    "#     return call_price\n",
    "# def calibrated_sigma(params, args):\n",
    "#     \"\"\"\n",
    "#     Params: array of parameters to optimize sigma (in this case)\n",
    "#     args: other args to the bsm_valid function\n",
    "#     \"\"\"\n",
    "#     market_prices, S, K, T, r = args\n",
    "#     sigma = params[0]\n",
    "#     model_prices = bsm_call(S, K, T, r, sigma)\n",
    "#     return np.sum(market_prices - model_prices )\n"
   ]
  },
  {
   "cell_type": "markdown",
   "metadata": {},
   "source": [
    "##### <center>Yves Hilpisches new book</center>\n",
    "# <center>Reinforcement Learning for Finance - A Python Based Intro</center>\n",
    "---\n",
    "## <center>Bayesian Learning</center>\n",
    "---\n",
    "---\n",
    "### Tossing a biased Coin"
   ]
  },
  {
   "cell_type": "code",
   "execution_count": 4,
   "metadata": {},
   "outputs": [],
   "source": [
    "rng = np.random.default_rng(seed=100)\n",
    "\n",
    "ssp = [1, 0] # State space, 1 for heads, 0 for tails\n",
    "asp = [1, 0] # Action space, 1 for a bet on heads, 0 for one on tails\n",
    "\n",
    "def epoch():\n",
    "    tr = 0\n",
    "    for _ in range(100):\n",
    "        a = rng.choice(asp)  # the random bet\n",
    "        s = rng.choice(ssp)  # the random coin toss\n",
    "        if a == s:\n",
    "            tr += 1          # the reward for a winning bet\n",
    "    return tr\n"
   ]
  },
  {
   "cell_type": "code",
   "execution_count": 5,
   "metadata": {},
   "outputs": [
    {
     "data": {
      "text/plain": [
       "array([56, 47, 48, 55, 55, 51, 54, 43, 55, 40])"
      ]
     },
     "execution_count": 5,
     "metadata": {},
     "output_type": "execute_result"
    }
   ],
   "source": [
    "rl = np.array([epoch() for _ in range(250)])  # The simulation of multiple sequences of bets\n",
    "rl[:10]"
   ]
  },
  {
   "cell_type": "code",
   "execution_count": 6,
   "metadata": {},
   "outputs": [
    {
     "data": {
      "text/plain": [
       "49.968"
      ]
     },
     "execution_count": 6,
     "metadata": {},
     "output_type": "execute_result"
    }
   ],
   "source": [
    "rl.mean()                                    # The average total reward"
   ]
  },
  {
   "cell_type": "code",
   "execution_count": 7,
   "metadata": {},
   "outputs": [
    {
     "data": {
      "text/plain": [
       "array([53, 56, 40, 55, 53, 49, 43, 45, 50, 51])"
      ]
     },
     "execution_count": 7,
     "metadata": {},
     "output_type": "execute_result"
    }
   ],
   "source": [
    "ssp = [1, 1, 1, 1, 0]  # The biased state space\n",
    "asp = [1, 0]           # the same action as before\n",
    "\n",
    "def epoch():\n",
    "    tr = 0\n",
    "    for _ in range(100):\n",
    "        a = rng.choice(asp)  # the random bet\n",
    "        s = rng.choice(ssp)  # the random coin toss\n",
    "        if a == s:\n",
    "            tr += 1          # the reward for a winning bet\n",
    "    return tr\n",
    "\n",
    "rl = np.array([epoch() for _ in range(250)])  # The simulation of multiple sequences of bets\n",
    "rl[:10]"
   ]
  },
  {
   "cell_type": "code",
   "execution_count": 8,
   "metadata": {},
   "outputs": [
    {
     "data": {
      "text/plain": [
       "49.924"
      ]
     },
     "execution_count": 8,
     "metadata": {},
     "output_type": "execute_result"
    }
   ],
   "source": [
    "rl.mean()"
   ]
  },
  {
   "cell_type": "code",
   "execution_count": 10,
   "metadata": {},
   "outputs": [
    {
     "data": {
      "text/plain": [
       "array([71, 65, 67, 69, 68, 72, 68, 68, 77, 73])"
      ]
     },
     "execution_count": 10,
     "metadata": {},
     "output_type": "execute_result"
    }
   ],
   "source": [
    "ssp = [1, 1, 1, 1, 0]\n",
    "\n",
    "def epoch(n):\n",
    "    tr = 0\n",
    "    asp = [0, 1]  # the initial action space\n",
    "    for _ in range(n):\n",
    "        a = rng.choice(asp)\n",
    "        s = rng.choice(ssp)\n",
    "        if a == s:\n",
    "            tr += 1\n",
    "        asp.append(s)\n",
    "    return tr\n",
    "\n",
    "rl = np.array([epoch(100) for _ in range(250)])  # The simulation of multiple sequences of bets\n",
    "rl[:10]"
   ]
  },
  {
   "cell_type": "code",
   "execution_count": 11,
   "metadata": {},
   "outputs": [
    {
     "data": {
      "text/plain": [
       "66.78"
      ]
     },
     "execution_count": 11,
     "metadata": {},
     "output_type": "execute_result"
    }
   ],
   "source": [
    "rl.mean()\n"
   ]
  },
  {
   "cell_type": "code",
   "execution_count": 12,
   "metadata": {},
   "outputs": [
    {
     "data": {
      "text/plain": [
       "array([81, 70, 74, 77, 82, 74, 81, 80, 77, 78])"
      ]
     },
     "execution_count": 12,
     "metadata": {},
     "output_type": "execute_result"
    }
   ],
   "source": [
    "from collections import Counter\n",
    "\n",
    "ssp = [1, 1, 1, 1, 0]\n",
    "\n",
    "def epoch(n):\n",
    "    tr = 0\n",
    "    asp = [0, 1]  # the initial action space\n",
    "    for _ in range(n):\n",
    "        c = Counter(asp)\n",
    "        a = c.most_common()[0][0]\n",
    "        s = rng.choice(ssp)\n",
    "        if a == s:\n",
    "            tr += 1\n",
    "        asp.append(s)\n",
    "    return tr\n",
    "\n",
    "rl = np.array([epoch(100) for _ in range(250)])  # The simulation of multiple sequences of bets\n",
    "rl[:10]\n"
   ]
  },
  {
   "cell_type": "code",
   "execution_count": null,
   "metadata": {},
   "outputs": [
    {
     "data": {
      "text/plain": [
       "78.828"
      ]
     },
     "execution_count": 13,
     "metadata": {},
     "output_type": "execute_result"
    }
   ],
   "source": [
    "rl.mean()"
   ]
  },
  {
   "cell_type": "code",
   "execution_count": 14,
   "metadata": {},
   "outputs": [
    {
     "data": {
      "text/plain": [
       "array([ 93,  97, 103,  99, 106, 107, 104, 104, 100, 110])"
      ]
     },
     "execution_count": 14,
     "metadata": {},
     "output_type": "execute_result"
    }
   ],
   "source": [
    "ssp = [1, 2, 3, 4, 4, 4, 4, 5, 6]\n",
    "asp = [1, 2, 3, 4, 5, 6]\n",
    "\n",
    "def epoch():\n",
    "    tr = 0\n",
    "    for _ in range(600):\n",
    "        a = rng.choice(asp)\n",
    "        s = rng.choice(ssp)\n",
    "        if a == s:\n",
    "            tr += 1\n",
    "    return tr\n",
    "\n",
    "rl = np.array([epoch() for _ in range(250)])  # The simulation of multiple sequences of bets\n",
    "rl[:10]"
   ]
  },
  {
   "cell_type": "code",
   "execution_count": 15,
   "metadata": {},
   "outputs": [
    {
     "data": {
      "text/plain": [
       "100.556"
      ]
     },
     "execution_count": 15,
     "metadata": {},
     "output_type": "execute_result"
    }
   ],
   "source": [
    "rl.mean()"
   ]
  },
  {
   "cell_type": "code",
   "execution_count": 18,
   "metadata": {},
   "outputs": [
    {
     "data": {
      "text/plain": [
       "array([144, 160, 145, 134, 148, 148, 166, 175, 149, 134])"
      ]
     },
     "execution_count": 18,
     "metadata": {},
     "output_type": "execute_result"
    }
   ],
   "source": [
    "def epoch():\n",
    "\ttr = 0\n",
    "\tasp = [1,2, 3, 4, 5, 6]\n",
    "\tfor _ in range(600):\n",
    "\t\ta = rng.choice(asp)\n",
    "\t\ts = rng.choice(ssp)\n",
    "\t\tif a == s:\n",
    "\t\t\ttr += 1\n",
    "\t\tasp.append(s)\n",
    "\treturn tr\n",
    "\n",
    "rl = np.array([epoch() for _ in range(250)])\n",
    "rl[:10]\n"
   ]
  },
  {
   "cell_type": "code",
   "execution_count": 19,
   "metadata": {},
   "outputs": [
    {
     "data": {
      "text/plain": [
       "152.928"
      ]
     },
     "execution_count": 19,
     "metadata": {},
     "output_type": "execute_result"
    }
   ],
   "source": [
    "rl.mean()"
   ]
  },
  {
   "cell_type": "code",
   "execution_count": 21,
   "metadata": {},
   "outputs": [
    {
     "data": {
      "text/plain": [
       "array([258, 258, 278, 280, 280, 263, 283, 281, 278, 247])"
      ]
     },
     "execution_count": 21,
     "metadata": {},
     "output_type": "execute_result"
    }
   ],
   "source": [
    "def epoch():\n",
    "    tr = 0\n",
    "    asp = [1, 2, 3, 4, 5, 6]\n",
    "    for _ in range(600):\n",
    "        c = Counter(asp)\n",
    "        a = c.most_common()[0][0]\n",
    "        s = rng.choice(ssp)\n",
    "        if a == s:\n",
    "            tr += 1\n",
    "        asp.append(s)\n",
    "    return tr\n",
    "\n",
    "rl = np.array([epoch() for _ in range(250)])  # The simulation of multiple sequences of bets\n",
    "rl[:10]"
   ]
  },
  {
   "cell_type": "code",
   "execution_count": 22,
   "metadata": {},
   "outputs": [
    {
     "data": {
      "text/plain": [
       "263.168"
      ]
     },
     "execution_count": 22,
     "metadata": {},
     "output_type": "execute_result"
    }
   ],
   "source": [
    "rl.mean()"
   ]
  },
  {
   "cell_type": "code",
   "execution_count": 23,
   "metadata": {},
   "outputs": [
    {
     "name": "stdout",
     "output_type": "stream",
     "text": [
      "10,000,000,000,000,000,000,000,000,000,000,000,000,000\n"
     ]
    }
   ],
   "source": [
    "cm = 10**40\n",
    "print(f'{cm:,}')"
   ]
  },
  {
   "cell_type": "code",
   "execution_count": null,
   "metadata": {},
   "outputs": [],
   "source": []
  }
 ],
 "metadata": {
  "kernelspec": {
   "display_name": "WinPy3.12sys",
   "language": "python",
   "name": "win_pyenv3.12"
  },
  "language_info": {
   "codemirror_mode": {
    "name": "ipython",
    "version": 3
   },
   "file_extension": ".py",
   "mimetype": "text/x-python",
   "name": "python",
   "nbconvert_exporter": "python",
   "pygments_lexer": "ipython3",
   "version": "3.12.0"
  }
 },
 "nbformat": 4,
 "nbformat_minor": 2
}
