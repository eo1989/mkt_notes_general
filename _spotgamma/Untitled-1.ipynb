{
 "cells": [
  {
   "cell_type": "code",
   "execution_count": 1,
   "metadata": {},
   "outputs": [],
   "source": [
    "import numpy as np\n",
    "import matplotlib.pyplot as plt\n",
    "import seaborn as sns\n",
    "import pandas as pd\n",
    "from datetime import timedelta, date\n",
    "import datetime\n",
    "from itertools import *\n",
    "\n",
    "plt.style.use(\"seaborn-v0_8-deep\")\n",
    "sns.set_context(\"notebook\")"
   ]
  },
  {
   "cell_type": "code",
   "execution_count": 2,
   "metadata": {},
   "outputs": [
    {
     "name": "stdout",
     "output_type": "stream",
     "text": [
      "<class 'pandas.core.frame.DataFrame'>\n",
      "MultiIndex: 261 entries, ('Expiration Date', 'Calls', 'Last Sale', 'Net', 'Bid', 'Ask', 'Volume', 'IV', 'Delta', 'Gamma', 'Open Interest', 'Strike', 'Puts', 'Last Sale', 'Net', 'Bid', 'Ask') to ('Tue Apr 30 2024', 'SPY240430C00529000', '2.8', '-0.275', '2.8', '2.82', '254', '0.1166', '0.3019', '0.0233', '1891', '529.00', 'SPY240430P00529000', '11.48', '0', '11.15', '11.49')\n",
      "Data columns (total 5 columns):\n",
      " #   Column                               Non-Null Count  Dtype \n",
      "---  ------                               --------------  ----- \n",
      " 0   Date: April 8, 2024 at 11:57 AM EDT  261 non-null    object\n",
      " 1   Bid: 519.04                          261 non-null    object\n",
      " 2   Ask: 519.05                          261 non-null    object\n",
      " 3   Size: 1*7                            261 non-null    object\n",
      " 4   Volume: 14,688,315                   261 non-null    object\n",
      "dtypes: object(5)\n",
      "memory usage: 156.0+ KB\n",
      "None\n"
     ]
    }
   ],
   "source": [
    "_df = pd.read_csv(\n",
    "    \"C:/Users/eorlo/Desktop/spy_quotedata_april24.csv\",\n",
    "    # sep=\"\\s+\",\n",
    "    skiprows=2,\n",
    ")\n",
    "print(_df.info())"
   ]
  },
  {
   "cell_type": "code",
   "execution_count": null,
   "metadata": {},
   "outputs": [],
   "source": []
  }
 ],
 "metadata": {
  "kernelspec": {
   "display_name": "WinPy3.12",
   "language": "python",
   "name": "win_pyenv3.12"
  },
  "language_info": {
   "codemirror_mode": {
    "name": "ipython",
    "version": 3
   },
   "file_extension": ".py",
   "mimetype": "text/x-python",
   "name": "python",
   "nbconvert_exporter": "python",
   "pygments_lexer": "ipython3",
   "version": "3.12.0"
  }
 },
 "nbformat": 4,
 "nbformat_minor": 2
}
