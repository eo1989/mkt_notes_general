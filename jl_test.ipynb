{
 "cells": [
  {
   "cell_type": "code",
   "execution_count": 1,
   "metadata": {},
   "outputs": [],
   "source": [
    "using Test\n"
   ]
  },
  {
   "cell_type": "code",
   "execution_count": 2,
   "metadata": {},
   "outputs": [
    {
     "data": {
      "text/plain": [
       "\u001b[32m\u001b[1mTest Passed\u001b[22m\u001b[39m"
      ]
     },
     "metadata": {},
     "output_type": "display_data"
    }
   ],
   "source": [
    "a = [1, 7]\n",
    "@test length(a) == 2 && a[1] == 1 && a[2] == 7"
   ]
  },
  {
   "cell_type": "code",
   "execution_count": 3,
   "metadata": {},
   "outputs": [
    {
     "name": "stdout",
     "output_type": "stream",
     "text": [
      "\u001b[0m\u001b[1mTest Summary: | \u001b[22m\u001b[32m\u001b[1mPass  \u001b[22m\u001b[39m\u001b[36m\u001b[1mTotal  \u001b[22m\u001b[39m\u001b[0m\u001b[1mTime\u001b[22m\n",
      "Julia testing | \u001b[32m   1  \u001b[39m\u001b[36m    1  \u001b[39m\u001b[0m0.2s\n"
     ]
    },
    {
     "data": {
      "text/plain": [
       "Test.DefaultTestSet(\"Julia testing\", Any[], 1, false, false, true, 1.732315118758e9, 1.732315118912e9, false, \"c:\\\\Users\\\\eo\\\\Dev\\\\mkt_notes_general\\\\jl_notebook_cell_df34fa98e69747e1a8f8a730347b8e2f_W2sZmlsZQ==.jl\")"
      ]
     },
     "metadata": {},
     "output_type": "display_data"
    }
   ],
   "source": [
    "@testset \"Julia testing\" begin\n",
    "    r = range(2, 5)\n",
    "    @test isa(r, AbstractUnitRange) && first(r) == 2 && last(r) == 5\n",
    "end"
   ]
  },
  {
   "cell_type": "code",
   "execution_count": 4,
   "metadata": {},
   "outputs": [],
   "source": [
    "struct Dual <: Number\n",
    "    value::Float64\n",
    "    ϵ::Float64\n",
    "end"
   ]
  },
  {
   "cell_type": "code",
   "execution_count": 5,
   "metadata": {},
   "outputs": [
    {
     "data": {
      "text/plain": [
       "* (generic function with 222 methods)"
      ]
     },
     "metadata": {},
     "output_type": "display_data"
    }
   ],
   "source": [
    "import Base: +, -, *\n",
    "+(z::Dual, w::Dual) = Dual(z.value + w.value, z.ϵ + w.ϵ)\n",
    "-(z::Dual, w::Dual) = Dual(z.value - w.value, z.ϵ - w.ϵ)\n",
    "*(z::Dual, w::Dual) = Dual(z.value * w.value, z.value * w.ϵ + z.ϵ * w.value)\n"
   ]
  },
  {
   "cell_type": "code",
   "execution_count": 6,
   "metadata": {},
   "outputs": [],
   "source": [
    "Base.show(io::IO, x::Dual) = print(io, x.value, \" + \", x.ϵ, \" ϵ\")"
   ]
  },
  {
   "cell_type": "code",
   "execution_count": 7,
   "metadata": {},
   "outputs": [
    {
     "data": {
      "text/plain": [
       "2.0 + 1.0 ϵ"
      ]
     },
     "metadata": {},
     "output_type": "display_data"
    }
   ],
   "source": [
    "a = Dual(2, 1)"
   ]
  },
  {
   "cell_type": "code",
   "execution_count": 8,
   "metadata": {},
   "outputs": [
    {
     "data": {
      "text/plain": [
       "4.0 + 4.0 ϵ"
      ]
     },
     "metadata": {},
     "output_type": "display_data"
    }
   ],
   "source": [
    "a * a"
   ]
  },
  {
   "cell_type": "code",
   "execution_count": 9,
   "metadata": {},
   "outputs": [
    {
     "data": {
      "text/plain": [
       "4.0 + 4.0 ϵ"
      ]
     },
     "metadata": {},
     "output_type": "display_data"
    }
   ],
   "source": [
    "a^2"
   ]
  },
  {
   "cell_type": "code",
   "execution_count": 10,
   "metadata": {},
   "outputs": [
    {
     "data": {
      "text/plain": [
       "128.0 + 448.0 ϵ"
      ]
     },
     "metadata": {},
     "output_type": "display_data"
    }
   ],
   "source": [
    "a^7"
   ]
  },
  {
   "cell_type": "code",
   "execution_count": 11,
   "metadata": {},
   "outputs": [
    {
     "data": {
      "text/html": [
       "^(x::<b>Number</b>, p::<b>Integer</b>) in Base at <a href=\"https://github.com/JuliaLang/julia/tree/8f5b7ca12ad48c6d740e058312fc8cf2bbe67848/base/intfuncs.jl#L349\" target=\"_blank\">intfuncs.jl:349</a>"
      ],
      "text/plain": [
       "^(\u001b[90mx\u001b[39m::\u001b[1mNumber\u001b[22m, \u001b[90mp\u001b[39m::\u001b[1mInteger\u001b[22m)\n",
       "\u001b[90m     @\u001b[39m \u001b[90mBase\u001b[39m \u001b[90m\u001b[4mintfuncs.jl:349\u001b[24m\u001b[39m"
      ]
     },
     "metadata": {},
     "output_type": "display_data"
    }
   ],
   "source": [
    "@which a^7"
   ]
  },
  {
   "cell_type": "code",
   "execution_count": 12,
   "metadata": {},
   "outputs": [
    {
     "ename": "ErrorException",
     "evalue": "promotion of types Int64 and Dual failed to change any arguments",
     "output_type": "error",
     "traceback": [
      "promotion of types Int64 and Dual failed to change any arguments\n",
      "\n",
      "Stacktrace:\n",
      " [1] error(::String, ::String, ::String)\n",
      "   @ Base .\\error.jl:44\n",
      " [2] sametype_error(input::Tuple{Int64, Dual})\n",
      "   @ Base .\\promotion.jl:424\n",
      " [3] not_sametype(x::Tuple{Int64, Dual}, y::Tuple{Int64, Dual})\n",
      "   @ Base .\\promotion.jl:418\n",
      " [4] promote\n",
      "   @ .\\promotion.jl:401 [inlined]\n",
      " [5] *(x::Int64, y::Dual)\n",
      "   @ Base .\\promotion.jl:430\n",
      " [6] top-level scope\n",
      "   @ c:\\Users\\eo\\Dev\\mkt_notes_general\\jl_notebook_cell_df34fa98e69747e1a8f8a730347b8e2f_X15sZmlsZQ==.jl:1"
     ]
    }
   ],
   "source": [
    "2*a"
   ]
  },
  {
   "cell_type": "code",
   "execution_count": 13,
   "metadata": {},
   "outputs": [
    {
     "data": {
      "text/plain": [
       "promote_rule (generic function with 135 methods)"
      ]
     },
     "metadata": {},
     "output_type": "display_data"
    }
   ],
   "source": [
    "import Base: convert, promote_rule\n",
    "convert(::Type{Dual}, x::Real) = Dual(x, zero(x))\n",
    "promote_rule(::Type{Dual}, ::Type{<:Number}) = Dual"
   ]
  },
  {
   "cell_type": "code",
   "execution_count": 14,
   "metadata": {},
   "outputs": [
    {
     "data": {
      "text/plain": [
       "4.0 + 2.0 ϵ"
      ]
     },
     "metadata": {},
     "output_type": "display_data"
    }
   ],
   "source": [
    "2*a"
   ]
  },
  {
   "cell_type": "code",
   "execution_count": 15,
   "metadata": {},
   "outputs": [
    {
     "data": {
      "text/plain": [
       "1.0 + 1.0 ϵ"
      ]
     },
     "metadata": {},
     "output_type": "display_data"
    }
   ],
   "source": [
    "a - 1"
   ]
  },
  {
   "cell_type": "code",
   "execution_count": 16,
   "metadata": {},
   "outputs": [
    {
     "data": {
      "text/plain": [
       "27.0 + 36.0 ϵ"
      ]
     },
     "metadata": {},
     "output_type": "display_data"
    }
   ],
   "source": [
    "b = Dual(1, 1)\n",
    "3*(a + b)^2"
   ]
  },
  {
   "cell_type": "code",
   "execution_count": 17,
   "metadata": {},
   "outputs": [
    {
     "data": {
      "text/plain": [
       "27.0 + 18.0 ϵ"
      ]
     },
     "metadata": {},
     "output_type": "display_data"
    }
   ],
   "source": [
    "3*(1 + a)^2"
   ]
  },
  {
   "cell_type": "code",
   "execution_count": 18,
   "metadata": {},
   "outputs": [
    {
     "data": {
      "text/plain": [
       "ϵ (generic function with 1 method)"
      ]
     },
     "metadata": {},
     "output_type": "display_data"
    }
   ],
   "source": [
    "value(z::Dual) = z.value\n",
    "ϵ(z::Dual) = z.ϵ"
   ]
  },
  {
   "cell_type": "code",
   "execution_count": 19,
   "metadata": {},
   "outputs": [
    {
     "data": {
      "text/plain": [
       "18.0"
      ]
     },
     "metadata": {},
     "output_type": "display_data"
    }
   ],
   "source": [
    "ϵ(3*(1 + a)^2)"
   ]
  },
  {
   "cell_type": "code",
   "execution_count": 20,
   "metadata": {},
   "outputs": [
    {
     "data": {
      "text/plain": [
       "derivative (generic function with 1 method)"
      ]
     },
     "metadata": {},
     "output_type": "display_data"
    }
   ],
   "source": [
    "function derivative(f, x::Real)\n",
    "    ϵ(f(Dual(x, 1)))\n",
    "end\n"
   ]
  },
  {
   "cell_type": "code",
   "execution_count": 21,
   "metadata": {},
   "outputs": [
    {
     "data": {
      "text/plain": [
       "7.0"
      ]
     },
     "metadata": {},
     "output_type": "display_data"
    }
   ],
   "source": [
    "derivative(x -> 1 + x + 3x^2, 1)"
   ]
  },
  {
   "cell_type": "code",
   "execution_count": 22,
   "metadata": {},
   "outputs": [
    {
     "ename": "ErrorException",
     "evalue": "^ not defined for Dual",
     "output_type": "error",
     "traceback": [
      "^ not defined for Dual\n",
      "\n",
      "Stacktrace:\n",
      " [1] error(::String, ::String, ::Type)\n",
      "   @ Base .\\error.jl:44\n",
      " [2] no_op_err(name::String, T::Type)\n",
      "   @ Base .\\promotion.jl:624\n",
      " [3] ^(x::Dual, y::Dual)\n",
      "   @ Base .\\promotion.jl:629\n",
      " [4] ^(x::Dual, y::Float64)\n",
      "   @ Base .\\promotion.jl:478\n",
      " [5] top-level scope\n",
      "   @ c:\\Users\\eo\\Dev\\mkt_notes_general\\jl_notebook_cell_df34fa98e69747e1a8f8a730347b8e2f_X31sZmlsZQ==.jl:1"
     ]
    }
   ],
   "source": [
    "a^(1/2)"
   ]
  },
  {
   "cell_type": "code",
   "execution_count": 23,
   "metadata": {},
   "outputs": [
    {
     "data": {
      "text/plain": [
       "Babylonian (generic function with 1 method)"
      ]
     },
     "metadata": {},
     "output_type": "display_data"
    }
   ],
   "source": [
    "function Babylonian(x; N = 10)\n",
    "    t = (1 + x)/2\n",
    "    for i = 2:N; t = (t + x/t)/2 end\n",
    "    t\n",
    "end"
   ]
  },
  {
   "cell_type": "code",
   "execution_count": 24,
   "metadata": {},
   "outputs": [
    {
     "data": {
      "text/plain": [
       "(1.414213562373095, 1.4142135623730951)"
      ]
     },
     "metadata": {},
     "output_type": "display_data"
    }
   ],
   "source": [
    "Babylonian(2), √2"
   ]
  },
  {
   "cell_type": "code",
   "execution_count": 29,
   "metadata": {},
   "outputs": [
    {
     "ename": "UndefVarError",
     "evalue": "UndefVarError: `x` not defined in `Main`\nSuggestion: check for spelling errors or missing imports.",
     "output_type": "error",
     "traceback": [
      "UndefVarError: `x` not defined in `Main`\n",
      "Suggestion: check for spelling errors or missing imports.\n",
      "\n",
      "Stacktrace:\n",
      " [1] top-level scope\n",
      "   @ c:\\Users\\eo\\Dev\\mkt_notes_general\\jl_notebook_cell_df34fa98e69747e1a8f8a730347b8e2f_X34sZmlsZQ==.jl:2"
     ]
    }
   ],
   "source": [
    "import Base\n",
    "(x::Dual, y::Dual) = Dual(x.value/y.value, (y.value*x.ϵ - x.value*y.ϵ)/y.value^2)"
   ]
  },
  {
   "cell_type": "code",
   "execution_count": null,
   "metadata": {},
   "outputs": [],
   "source": []
  }
 ],
 "metadata": {
  "kernelspec": {
   "display_name": "Julia 1.11.1",
   "language": "julia",
   "name": "julia-1.11"
  },
  "language_info": {
   "file_extension": ".jl",
   "mimetype": "application/julia",
   "name": "julia",
   "version": "1.11.1"
  }
 },
 "nbformat": 4,
 "nbformat_minor": 2
}
