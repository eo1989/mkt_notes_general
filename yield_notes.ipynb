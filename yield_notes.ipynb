{
 "cells": [
  {
   "cell_type": "code",
   "execution_count": 1,
   "metadata": {},
   "outputs": [],
   "source": [
    "import traceback"
   ]
  },
  {
   "cell_type": "code",
   "execution_count": 3,
   "metadata": {},
   "outputs": [
    {
     "name": "stdout",
     "output_type": "stream",
     "text": [
      "[1]: print(*\"abc\" if 1 else \"123\")\n",
      "a b c\n",
      "\n",
      "[2]: print([*\"abc\" if 1 else \"123\"])\n",
      "\n",
      "('a', [1, 2, 3])\n",
      "('x', 'y')\n"
     ]
    },
    {
     "name": "stderr",
     "output_type": "stream",
     "text": [
      "Traceback (most recent call last):\n",
      "  File \"C:\\Users\\eo\\AppData\\Local\\Temp\\ipykernel_19216\\3378701329.py\", line 7, in <module>\n",
      "    exec(line)\n",
      "  File \"<string>\", line 1\n",
      "    print([*\"abc\" if 1 else \"123\"])\n",
      "                  ^^\n",
      "SyntaxError: invalid syntax\n"
     ]
    }
   ],
   "source": [
    "for i, line in enumerate((\n",
    "    r'print(*\"abc\" if 1 else \"123\")',\n",
    "    r'print([*\"abc\" if 1 else \"123\"])',\n",
    "), start=1):\n",
    "    print(f\"[{i}]:\", line)\n",
    "    try:\n",
    "        exec(line)\n",
    "    except SyntaxError as e:\n",
    "        traceback.print_exc()\n",
    "    print()\n",
    "\n",
    "\n",
    "def f(*g):\n",
    "    a, b = yield 'a', *g\n",
    "    yield a, b\n",
    "\n",
    "\n",
    "x = f([1, 2, 3])\n",
    "print(x.send(None))  # receives first yield\n",
    "print(x.send('xy'))  # sends in place of first yield, receives second yield."
   ]
  },
  {
   "cell_type": "code",
   "execution_count": null,
   "metadata": {},
   "outputs": [],
   "source": []
  }
 ],
 "metadata": {
  "kernelspec": {
   "display_name": "Py 3.12.5 (base)",
   "language": "python",
   "name": "py3125_base"
  },
  "language_info": {
   "codemirror_mode": {
    "name": "ipython",
    "version": 3
   },
   "file_extension": ".py",
   "mimetype": "text/x-python",
   "name": "python",
   "nbconvert_exporter": "python",
   "pygments_lexer": "ipython3",
   "version": "3.12.5"
  }
 },
 "nbformat": 4,
 "nbformat_minor": 2
}
