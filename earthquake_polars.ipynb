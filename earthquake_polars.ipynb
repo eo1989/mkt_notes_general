{
 "cells": [
  {
   "cell_type": "code",
   "execution_count": 1,
   "metadata": {},
   "outputs": [],
   "source": [
    "import polars as pl\n",
    "import polars.selectors as ps\n",
    "\n",
    "import matplotlib.pyplot as plt\n",
    "from matplotlib.colors import LinearSegmentedColormap\n",
    "import seaborn as sns\n"
   ]
  },
  {
   "cell_type": "code",
   "execution_count": 2,
   "metadata": {},
   "outputs": [],
   "source": [
    "import numpy as np\n",
    "from mpl_toolkits.basemap import Basemap"
   ]
  },
  {
   "cell_type": "code",
   "execution_count": 3,
   "metadata": {},
   "outputs": [
    {
     "data": {
      "text/html": [
       "<div><style>\n",
       ".dataframe > thead > tr,\n",
       ".dataframe > tbody > tr {\n",
       "  text-align: right;\n",
       "  white-space: pre-wrap;\n",
       "}\n",
       "</style>\n",
       "<small>shape: (5, 22)</small><table border=\"1\" class=\"dataframe\"><thead><tr><th>time</th><th>latitude</th><th>longitude</th><th>depth</th><th>mag</th><th>magType</th><th>nst</th><th>gap</th><th>dmin</th><th>rms</th><th>net</th><th>id</th><th>updated</th><th>place</th><th>type</th><th>horizontalError</th><th>depthError</th><th>magError</th><th>magNst</th><th>status</th><th>locationSource</th><th>magSource</th></tr><tr><td>datetime[ns, UTC]</td><td>f64</td><td>f64</td><td>f64</td><td>f64</td><td>str</td><td>i64</td><td>f64</td><td>f64</td><td>f64</td><td>str</td><td>str</td><td>datetime[ns, UTC]</td><td>str</td><td>str</td><td>f64</td><td>f64</td><td>f64</td><td>i64</td><td>str</td><td>str</td><td>str</td></tr></thead><tbody><tr><td>2024-12-02 17:42:57.060 UTC</td><td>19.196833</td><td>-155.484497</td><td>29.879999</td><td>1.79</td><td>&quot;md&quot;</td><td>38</td><td>148.0</td><td>0.09162</td><td>0.11</td><td>&quot;hv&quot;</td><td>&quot;hv74551822&quot;</td><td>2024-12-02 17:44:46.610 UTC</td><td>&quot;0 km SW of Pāhala, Hawaii&quot;</td><td>&quot;earthquake&quot;</td><td>0.56</td><td>1.04</td><td>0.1</td><td>5</td><td>&quot;automatic&quot;</td><td>&quot;hv&quot;</td><td>&quot;hv&quot;</td></tr><tr><td>2024-12-02 17:29:17.815 UTC</td><td>61.0661</td><td>-151.7696</td><td>78.8</td><td>1.7</td><td>&quot;ml&quot;</td><td>null</td><td>null</td><td>null</td><td>0.46</td><td>&quot;ak&quot;</td><td>&quot;ak024fhmekud&quot;</td><td>2024-12-02 17:31:03.948 UTC</td><td>&quot;34 km W of Tyonek, Alaska&quot;</td><td>&quot;earthquake&quot;</td><td>null</td><td>0.8</td><td>null</td><td>null</td><td>&quot;automatic&quot;</td><td>&quot;ak&quot;</td><td>&quot;ak&quot;</td></tr><tr><td>2024-12-02 17:25:01.080 UTC</td><td>38.786499</td><td>-122.767166</td><td>2.12</td><td>1.09</td><td>&quot;md&quot;</td><td>17</td><td>81.0</td><td>0.01526</td><td>0.03</td><td>&quot;nc&quot;</td><td>&quot;nc75094066&quot;</td><td>2024-12-02 17:26:39.055 UTC</td><td>&quot;1 km NNW of The Geysers, CA&quot;</td><td>&quot;earthquake&quot;</td><td>0.27</td><td>0.54</td><td>0.18</td><td>16</td><td>&quot;automatic&quot;</td><td>&quot;nc&quot;</td><td>&quot;nc&quot;</td></tr><tr><td>2024-12-02 17:21:25.335 UTC</td><td>61.6003</td><td>-151.676</td><td>86.4</td><td>2.1</td><td>&quot;ml&quot;</td><td>null</td><td>null</td><td>null</td><td>0.5</td><td>&quot;ak&quot;</td><td>&quot;ak024fhmcvpl&quot;</td><td>2024-12-02 17:23:54.235 UTC</td><td>&quot;45 km SSW of Skwentna, Alaska&quot;</td><td>&quot;earthquake&quot;</td><td>null</td><td>0.7</td><td>null</td><td>null</td><td>&quot;automatic&quot;</td><td>&quot;ak&quot;</td><td>&quot;ak&quot;</td></tr><tr><td>2024-12-02 17:17:51.831 UTC</td><td>31.66</td><td>-104.433</td><td>3.7423</td><td>1.9</td><td>&quot;ml&quot;</td><td>14</td><td>71.0</td><td>0.1</td><td>0.4</td><td>&quot;tx&quot;</td><td>&quot;tx2024xrfg&quot;</td><td>2024-12-02 17:31:26.640 UTC</td><td>&quot;57 km S of Whites City, New Me…</td><td>&quot;earthquake&quot;</td><td>0.0</td><td>2.104293</td><td>0.2</td><td>8</td><td>&quot;automatic&quot;</td><td>&quot;tx&quot;</td><td>&quot;tx&quot;</td></tr></tbody></table></div>"
      ],
      "text/plain": [
       "shape: (5, 22)\n",
       "┌────────────┬───────────┬────────────┬───────────┬───┬────────┬───────────┬───────────┬───────────┐\n",
       "│ time       ┆ latitude  ┆ longitude  ┆ depth     ┆ … ┆ magNst ┆ status    ┆ locationS ┆ magSource │\n",
       "│ ---        ┆ ---       ┆ ---        ┆ ---       ┆   ┆ ---    ┆ ---       ┆ ource     ┆ ---       │\n",
       "│ datetime[n ┆ f64       ┆ f64        ┆ f64       ┆   ┆ i64    ┆ str       ┆ ---       ┆ str       │\n",
       "│ s, UTC]    ┆           ┆            ┆           ┆   ┆        ┆           ┆ str       ┆           │\n",
       "╞════════════╪═══════════╪════════════╪═══════════╪═══╪════════╪═══════════╪═══════════╪═══════════╡\n",
       "│ 2024-12-02 ┆ 19.196833 ┆ -155.48449 ┆ 29.879999 ┆ … ┆ 5      ┆ automatic ┆ hv        ┆ hv        │\n",
       "│ 17:42:57.0 ┆           ┆ 7          ┆           ┆   ┆        ┆           ┆           ┆           │\n",
       "│ 60 UTC     ┆           ┆            ┆           ┆   ┆        ┆           ┆           ┆           │\n",
       "│ 2024-12-02 ┆ 61.0661   ┆ -151.7696  ┆ 78.8      ┆ … ┆ null   ┆ automatic ┆ ak        ┆ ak        │\n",
       "│ 17:29:17.8 ┆           ┆            ┆           ┆   ┆        ┆           ┆           ┆           │\n",
       "│ 15 UTC     ┆           ┆            ┆           ┆   ┆        ┆           ┆           ┆           │\n",
       "│ 2024-12-02 ┆ 38.786499 ┆ -122.76716 ┆ 2.12      ┆ … ┆ 16     ┆ automatic ┆ nc        ┆ nc        │\n",
       "│ 17:25:01.0 ┆           ┆ 6          ┆           ┆   ┆        ┆           ┆           ┆           │\n",
       "│ 80 UTC     ┆           ┆            ┆           ┆   ┆        ┆           ┆           ┆           │\n",
       "│ 2024-12-02 ┆ 61.6003   ┆ -151.676   ┆ 86.4      ┆ … ┆ null   ┆ automatic ┆ ak        ┆ ak        │\n",
       "│ 17:21:25.3 ┆           ┆            ┆           ┆   ┆        ┆           ┆           ┆           │\n",
       "│ 35 UTC     ┆           ┆            ┆           ┆   ┆        ┆           ┆           ┆           │\n",
       "│ 2024-12-02 ┆ 31.66     ┆ -104.433   ┆ 3.7423    ┆ … ┆ 8      ┆ automatic ┆ tx        ┆ tx        │\n",
       "│ 17:17:51.8 ┆           ┆            ┆           ┆   ┆        ┆           ┆           ┆           │\n",
       "│ 31 UTC     ┆           ┆            ┆           ┆   ┆        ┆           ┆           ┆           │\n",
       "└────────────┴───────────┴────────────┴───────────┴───┴────────┴───────────┴───────────┴───────────┘"
      ]
     },
     "execution_count": 3,
     "metadata": {},
     "output_type": "execute_result"
    }
   ],
   "source": [
    "lats, lons = [], []\n",
    "quakes = pl.read_csv(\"http://earthquake.usgs.gov/earthquakes/feed/v1.0/summary/1.0_week.csv\", use_pyarrow=True)\n",
    "quakes.head()"
   ]
  },
  {
   "cell_type": "code",
   "execution_count": null,
   "metadata": {},
   "outputs": [],
   "source": [
    "# quakes_df = quakes.cast({ \"latitude\": pl.Float32, \"longitude\": pl.Float32, \"depth\": pl.Float32, \"mag\": pl.Float32 })\n",
    "# file is already small enough. no need to reduce it further.\n"
   ]
  },
  {
   "cell_type": "code",
   "execution_count": null,
   "metadata": {},
   "outputs": [],
   "source": [
    "for rows in quakes:\n",
    "    lat = quakes.with_columns(pl.col(\"latitude\")[1])\n",
    "    lon = quakes.with_columns(pl.col(\"latitude\")[2])\n",
    "    # quakes.filter(-130 <= lat <= -100 and 25 <= lat <= 55)\n",
    "    quakes.filter(if (-130 <= lon <= -100) and (25 <= lat <=))\n"
   ]
  }
 ],
 "metadata": {
  "kernelspec": {
   "display_name": "Py 3.12.5 (base)",
   "language": "python",
   "name": "py3125_base"
  },
  "language_info": {
   "codemirror_mode": {
    "name": "ipython",
    "version": 3
   },
   "file_extension": ".py",
   "mimetype": "text/x-python",
   "name": "python",
   "nbconvert_exporter": "python",
   "pygments_lexer": "ipython3",
   "version": "3.12.5"
  }
 },
 "nbformat": 4,
 "nbformat_minor": 2
}
