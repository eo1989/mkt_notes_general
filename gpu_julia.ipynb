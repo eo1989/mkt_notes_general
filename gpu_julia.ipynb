{
 "cells": [
  {
   "cell_type": "code",
   "execution_count": 1,
   "metadata": {},
   "outputs": [],
   "source": [
    "using CUDA"
   ]
  },
  {
   "cell_type": "code",
   "execution_count": 2,
   "metadata": {},
   "outputs": [
    {
     "name": "stdout",
     "output_type": "stream",
     "text": [
      "CUDA runtime 12.6, artifact installation\n",
      "CUDA driver 12.6\n",
      "NVIDIA driver 560.94.0\n",
      "\n",
      "CUDA libraries: \n",
      "- CUBLAS: 12.6.4\n",
      "- CURAND: 10.3.7\n",
      "- CUFFT: 11.3.0\n",
      "- CUSOLVER: 11.7.1\n",
      "- CUSPARSE: 12.5.4\n",
      "- CUPTI: 2024.3.2 (API 24.0.0)\n",
      "- NVML: 12.0.0+560.94\n",
      "\n",
      "Julia packages: \n",
      "- CUDA: 5.5.2\n",
      "- CUDA_Driver_jll: 0.10.4+0\n",
      "- CUDA_Runtime_jll: 0.15.5+0\n",
      "\n",
      "Toolchain:\n",
      "- Julia: 1.11.1\n",
      "- LLVM: 16.0.6\n",
      "\n",
      "1 device:\n",
      "  0: NVIDIA GeForce GTX 1660 (sm_75, 5.241 GiB / 6.000 GiB available)\n"
     ]
    }
   ],
   "source": [
    "CUDA.versioninfo()"
   ]
  },
  {
   "cell_type": "code",
   "execution_count": 3,
   "metadata": {},
   "outputs": [
    {
     "data": {
      "text/plain": [
       "true"
      ]
     },
     "metadata": {},
     "output_type": "display_data"
    }
   ],
   "source": [
    "x = randn(Float32, 60, 60)\n",
    "y = randn(Float32, 60, 60)\n",
    "x * y\n",
    "cx = CuArray(x)\n",
    "cy = CuArray(y)\n",
    "cx * cx\n",
    "\n",
    "x * y ≈ Matrix(cx * cy)\n"
   ]
  },
  {
   "cell_type": "markdown",
   "metadata": {},
   "source": [
    "This may not be anything remarkable, as such functionality is available in many other langs albeit usually with a less mathematical notation like `x.dot(y)`. With Julia's multiple dispatch, we can simply dispatch the multiplication operator/function `*` to a specific method that works on `CuArray` type. Check with `@code_typed` shows the call to CUBLAS lib under the hood."
   ]
  },
  {
   "cell_type": "code",
   "execution_count": 4,
   "metadata": {},
   "outputs": [
    {
     "data": {
      "text/plain": [
       "CodeInfo(\n",
       "\u001b[90m1 ─\u001b[39m %1 = Base.getfield(A, :dims)\u001b[36m::Tuple{Int64, Int64}\u001b[39m\n",
       "\u001b[90m│  \u001b[39m %2 = $(Expr(:boundscheck, true))\u001b[36m::Bool\u001b[39m\n",
       "\u001b[90m│  \u001b[39m %3 = Base.getfield(%1, 1, %2)\u001b[36m::Int64\u001b[39m\n",
       "\u001b[90m│  \u001b[39m %4 = Base.getfield(B, :dims)\u001b[36m::Tuple{Int64, Int64}\u001b[39m\n",
       "\u001b[90m│  \u001b[39m %5 = $(Expr(:boundscheck, true))\u001b[36m::Bool\u001b[39m\n",
       "\u001b[90m│  \u001b[39m %6 = Base.getfield(%4, 2, %5)\u001b[36m::Int64\u001b[39m\n",
       "\u001b[90m│  \u001b[39m %7 = Core.tuple(%3, %6)\u001b[36m::Tuple{Int64, Int64}\u001b[39m\n",
       "\u001b[90m│  \u001b[39m %8 = invoke CuArray{Float32, 2, CUDA.DeviceMemory}(CUDA.undef::UndefInitializer, %7::Tuple{Int64, Int64})\u001b[36m::CuArray{Float32, 2, CUDA.DeviceMemory}\u001b[39m\n",
       "\u001b[90m│  \u001b[39m %9 = invoke LinearAlgebra.generic_matmatmul!(%8::CuArray{Float32, 2, CUDA.DeviceMemory}, 'N'::Char, 'N'::Char, A::CuArray{Float32, 2, CUDA.DeviceMemory}, B::CuArray{Float32, 2, CUDA.DeviceMemory}, true::Bool, false::Bool)\u001b[36m::CuArray{Float32, 2, CUDA.DeviceMemory}\u001b[39m\n",
       "\u001b[90m└──\u001b[39m      return %9\n",
       ") => CuArray{Float32, 2, CUDA.DeviceMemory}"
      ]
     },
     "metadata": {},
     "output_type": "display_data"
    }
   ],
   "source": [
    "@code_typed cx * cy"
   ]
  },
  {
   "cell_type": "code",
   "execution_count": 5,
   "metadata": {},
   "outputs": [],
   "source": [
    "using BenchmarkTools"
   ]
  },
  {
   "cell_type": "code",
   "execution_count": 6,
   "metadata": {},
   "outputs": [],
   "source": [
    "# using Pkg;\n",
    "# Pkg.add([\"FileIO\", \"ImageMagick\", \"ImageShow\", \"ColorTypes\", \"FFTW\"])"
   ]
  },
  {
   "cell_type": "code",
   "execution_count": 7,
   "metadata": {},
   "outputs": [
    {
     "data": {
      "text/plain": [
       "6416×11406 CuArray{Float32, 2, CUDA.DeviceMemory}:\n",
       " 0.0  0.0  0.0  0.0  0.0  0.0  0.0  0.0  …  0.0  0.0  0.0         0.0\n",
       " 0.0  0.0  0.0  0.0  0.0  0.0  0.0  0.0     0.0  0.0  0.0         0.0\n",
       " 0.0  0.0  0.0  0.0  0.0  0.0  0.0  0.0     0.0  0.0  0.0         0.0\n",
       " 0.0  0.0  0.0  0.0  0.0  0.0  0.0  0.0     0.0  0.0  0.0         0.0\n",
       " 0.0  0.0  0.0  0.0  0.0  0.0  0.0  0.0     0.0  0.0  0.0         0.0\n",
       " 0.0  0.0  0.0  0.0  0.0  0.0  0.0  0.0  …  0.0  0.0  0.0         0.0\n",
       " 0.0  0.0  0.0  0.0  0.0  0.0  0.0  0.0     0.0  0.0  0.0         0.00392157\n",
       " 0.0  0.0  0.0  0.0  0.0  0.0  0.0  0.0     0.0  0.0  0.00392157  0.00392157\n",
       " 0.0  0.0  0.0  0.0  0.0  0.0  0.0  0.0     0.0  0.0  0.0         0.0\n",
       " 0.0  0.0  0.0  0.0  0.0  0.0  0.0  0.0     0.0  0.0  0.0         0.0\n",
       " ⋮                        ⋮              ⋱                        ⋮\n",
       " 0.0  0.0  0.0  0.0  0.0  0.0  0.0  0.0     0.0  0.0  0.0         0.0\n",
       " 0.0  0.0  0.0  0.0  0.0  0.0  0.0  0.0     0.0  0.0  0.0         0.00392157\n",
       " 0.0  0.0  0.0  0.0  0.0  0.0  0.0  0.0     0.0  0.0  0.0         0.0\n",
       " 0.0  0.0  0.0  0.0  0.0  0.0  0.0  0.0  …  0.0  0.0  0.0         0.0\n",
       " 0.0  0.0  0.0  0.0  0.0  0.0  0.0  0.0     0.0  0.0  0.0         0.0\n",
       " 0.0  0.0  0.0  0.0  0.0  0.0  0.0  0.0     0.0  0.0  0.0         0.0\n",
       " 0.0  0.0  0.0  0.0  0.0  0.0  0.0  0.0     0.0  0.0  0.0         0.0\n",
       " 0.0  0.0  0.0  0.0  0.0  0.0  0.0  0.0     0.0  0.0  0.0         0.0\n",
       " 0.0  0.0  0.0  0.0  0.0  0.0  0.0  0.0  …  0.0  0.0  0.0         0.0"
      ]
     },
     "metadata": {},
     "output_type": "display_data"
    }
   ],
   "source": [
    "using FileIO, ImageShow, ColorTypes, ImageMagick\n",
    "\n",
    "rgb_img = FileIO.load(\"../../Downloads/2019JulyLunarEclipse-gt1Mpxjpg.jpg\");\n",
    "gray_img = Float32.(Gray.(rgb_img));\n",
    "cgray_img = CuArray(gray_img);\n",
    "\n",
    "# Hints: Use Float32 everywhere for better performance\n",
    "#        Use CUDA.@sync during benchmarking in order to ensure that the computation has completed.\n",
    "\n",
    "# Remove high frequency signal by means of modifying Fourier image.\n"
   ]
  },
  {
   "cell_type": "code",
   "execution_count": 8,
   "metadata": {},
   "outputs": [
    {
     "data": {
      "text/plain": [
       "brightest (generic function with 1 method)"
      ]
     },
     "metadata": {},
     "output_type": "display_data"
    }
   ],
   "source": [
    "negative(i) = 1.0f0 .- i\n",
    "darken(i) = i .* 0.5f0\n",
    "\n",
    "using CUDA.CUFFT\n",
    "using FFTW\n",
    "\n",
    "fourier(i) = fft(i)\n",
    "brightest(i) = findmax(i)"
   ]
  },
  {
   "cell_type": "code",
   "execution_count": 9,
   "metadata": {},
   "outputs": [
    {
     "name": "stdout",
     "output_type": "stream",
     "text": [
      "  3.944 ms (48 allocations: 960 bytes)\n",
      " (48 allocations: 960 bytes)\n"
     ]
    }
   ],
   "source": [
    "# Now for the benchmarking\n",
    "\n",
    "@btime CUDA.@sync negative($cgray_img);"
   ]
  },
  {
   "cell_type": "code",
   "execution_count": 10,
   "metadata": {},
   "outputs": [
    {
     "name": "stdout",
     "output_type": "stream",
     "text": [
      "  49.718 ms (3 allocations: 279.16 MiB)\n"
     ]
    }
   ],
   "source": [
    "@btime negative($gray_img);"
   ]
  },
  {
   "cell_type": "code",
   "execution_count": 11,
   "metadata": {},
   "outputs": [
    {
     "name": "stdout",
     "output_type": "stream",
     "text": [
      "  3.945 ms (48 allocations: 960 bytes)\n"
     ]
    }
   ],
   "source": [
    "@btime CUDA.@sync darken($cgray_img);"
   ]
  },
  {
   "cell_type": "code",
   "execution_count": 12,
   "metadata": {},
   "outputs": [],
   "source": [
    "@btime darken($cgray_img);"
   ]
  },
  {
   "cell_type": "code",
   "execution_count": null,
   "metadata": {},
   "outputs": [],
   "source": []
  }
 ],
 "metadata": {
  "kernelspec": {
   "display_name": "Julia 1.11.2",
   "language": "julia",
   "name": "julia-1.11"
  },
  "language_info": {
   "file_extension": ".jl",
   "mimetype": "application/julia",
   "name": "julia",
   "version": "1.11.2"
  }
 },
 "nbformat": 4,
 "nbformat_minor": 2
}
