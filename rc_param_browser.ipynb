{
 "cells": [
  {
   "cell_type": "code",
   "execution_count": 2,
   "metadata": {},
   "outputs": [],
   "source": [
    "import re\n",
    "\n",
    "import matplotlib as mpl\n",
    "from IPython.display import HTML, display\n",
    "from ipywidgets import interactive\n"
   ]
  },
  {
   "cell_type": "code",
   "execution_count": 3,
   "metadata": {},
   "outputs": [],
   "source": [
    "@interactive\n",
    "def rcparam_viewer(search = \"\"):\n",
    "\trows = []\n",
    "\tfor k, v in mpl.rcParams.items():\n",
    "\t\ttry:\n",
    "\t\t\thit = search and bool(re.search(search, k))\n",
    "\t\texcept re.error:\n",
    "\t\t\thit = False\n",
    "\t\tif not hit:\n",
    "\t\t\tcontinue\n",
    "\t\ttry:\n",
    "\t\t\tif v != mpl.rcParamsDefault[k]:\n",
    "\t\t\t\tstyle = \"style='font-weight: bold'\"\n",
    "\t\t\telse:\n",
    "\t\t\t\tstyle = \"\"\n",
    "\t\texcept:\n",
    "\t\t\tstyle = \"\"\n",
    "\t\trows.append(f\"<tr {style}><td>{k}</td><td style='text-align: left'>{v!r}</td></tr>\")\n",
    "\tcontent = \"\".join(rows)\n",
    "\twidth, height = 700, 400\n",
    "\thtml = f\"<div style='height: {height}px; overflow-y: auto'><table>{content}</table></div>\"\n",
    "\tdisplay(HTML(html))"
   ]
  },
  {
   "cell_type": "code",
   "execution_count": 4,
   "metadata": {},
   "outputs": [],
   "source": [
    "import seaborn as sns\n",
    "\n",
    "sns.set_theme()"
   ]
  },
  {
   "cell_type": "code",
   "execution_count": 6,
   "metadata": {},
   "outputs": [
    {
     "data": {
      "application/vnd.jupyter.widget-view+json": {
       "model_id": "96eb996b306049f7b111c3101408c030",
       "version_major": 2,
       "version_minor": 0
      },
      "text/plain": [
       "interactive(children=(Text(value='', description='search'), Output(outputs=({'output_type': 'display_data', 'd…"
      ]
     },
     "execution_count": 6,
     "metadata": {},
     "output_type": "execute_result"
    }
   ],
   "source": [
    "rcparam_viewer"
   ]
  },
  {
   "cell_type": "code",
   "execution_count": null,
   "metadata": {},
   "outputs": [],
   "source": []
  }
 ],
 "metadata": {
  "kernelspec": {
   "display_name": ".venv",
   "language": "python",
   "name": "python3"
  },
  "language_info": {
   "codemirror_mode": {
    "name": "ipython",
    "version": 3
   },
   "file_extension": ".py",
   "mimetype": "text/x-python",
   "name": "python",
   "nbconvert_exporter": "python",
   "pygments_lexer": "ipython3",
   "version": "3.12.0"
  }
 },
 "nbformat": 4,
 "nbformat_minor": 2
}
