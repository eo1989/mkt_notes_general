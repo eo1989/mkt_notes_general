{
 "cells": [
  {
   "cell_type": "code",
   "execution_count": 1,
   "metadata": {},
   "outputs": [],
   "source": [
    "import numpy as np\n",
    "import pandas as pd\n",
    "\n",
    "# 15 months of heating oil futures (deltaF), and the change in jet fuel price/gal (deltaS)\n",
    "# all from Hull pg. 59\n",
    "deltaS = (\n",
    "    0.029,\n",
    "    0.02,\n",
    "    -0.044,\n",
    "    0.008,\n",
    "    0.026,\n",
    "    -0.019,\n",
    "    -0.010,\n",
    "    -0.007,\n",
    "    0.043,\n",
    "    0.011,\n",
    "    -0.036,\n",
    "    -0.018,\n",
    "    0.009,\n",
    "    -0.032,\n",
    "    0.023,\n",
    ")\n",
    "deltaF = (\n",
    "    0.021,\n",
    "    0.035,\n",
    "    -0.046,\n",
    "    0.001,\n",
    "    0.044,\n",
    "    -0.029,\n",
    "    -0.026,\n",
    "    -0.029,\n",
    "    0.048,\n",
    "    -0.006,\n",
    "    -0.036,\n",
    "    -0.011,\n",
    "    0.019,\n",
    "    -0.027,\n",
    "    0.029,\n",
    ")\n",
    "\n",
    "VolM_jetfuel = 2_000_000\n",
    "# brent crude /BZ[G25] ~ $72.50/contract * 1_000 barrels/ contract -> $72,500 worth of oil per contract\n",
    "BZ_price = 72_500"
   ]
  },
  {
   "cell_type": "code",
   "execution_count": null,
   "metadata": {},
   "outputs": [],
   "source": [
    "HStar = np.corrcoef(deltaS, deltaF) * np.std(deltaS) / np.std(deltaF)"
   ]
  }
 ],
 "metadata": {
  "kernelspec": {
   "display_name": "Py 3.12.5 (MktNotesGen)",
   "language": "python",
   "name": "uvpy3125_mktnotesgen"
  },
  "language_info": {
   "codemirror_mode": {
    "name": "ipython",
    "version": 3
   },
   "file_extension": ".py",
   "mimetype": "text/x-python",
   "name": "python",
   "nbconvert_exporter": "python",
   "pygments_lexer": "ipython3",
   "version": "3.12.5"
  }
 },
 "nbformat": 4,
 "nbformat_minor": 2
}
