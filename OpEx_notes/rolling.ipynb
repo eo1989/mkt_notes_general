{
 "cells": [
  {
   "cell_type": "raw",
   "metadata": {},
   "source": [
    "---\n",
    "title: \"Rolling\"\n",
    "format: html\n",
    "jupyter: Python 3.11.1\n",
    "---"
   ]
  },
  {
   "cell_type": "code",
   "execution_count": null,
   "metadata": {},
   "outputs": [],
   "source": [
    "import pandas as pd\n",
    "\n",
    "\n",
    "def pandas_rolling(series, window, freq=1, method=\"mean\"):\n",
    "    series_list = []\n",
    "    for i in range(freq):\n",
    "        _series = series.iloc[i::freq].rolling(window).agg(method)\n",
    "        series_list.append(_series)\n",
    "    return pd.concat(series_list, axis=0).sort_index()"
   ]
  }
 ],
 "metadata": {
  "kernelspec": {
   "display_name": "Win Pyenv3.11.1",
   "language": "python",
   "name": "win_pyenv3.11.1"
  },
  "language_info": {
   "name": "python",
   "version": "3.11.1"
  }
 },
 "nbformat": 4,
 "nbformat_minor": 2
}
