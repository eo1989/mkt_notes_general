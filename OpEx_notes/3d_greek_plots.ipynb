{
 "cells": [
  {
   "cell_type": "raw",
   "metadata": {
    "vscode": {
     "languageId": "raw"
    }
   },
   "source": [
    "---\n",
    "title: \"3d greek plots\"\n",
    "format: html\n",
    "jupyter: WinUV_Py3.12\n",
    "---"
   ]
  },
  {
   "cell_type": "code",
   "execution_count": 2,
   "metadata": {},
   "outputs": [],
   "source": [
    "import multiprocessing as mp\n",
    "import time\n",
    "import numpy as np\n",
    "import pandas as pd\n",
    "import dash\n",
    "\n",
    "# print(f\"dash version: {dash.__version__}\")\n",
    "from dash import dcc\n",
    "from dash import html\n",
    "\n",
    "import plotly.express as px\n",
    "import plotly.graph_objects as go\n",
    "from plotly.subplots import make_subplots"
   ]
  },
  {
   "cell_type": "code",
   "execution_count": 3,
   "metadata": {},
   "outputs": [],
   "source": [
    "\"\"\"Parameters\n",
    "\n",
    "stock_low : float\n",
    "    Lowest underlying price in the price range.\n",
    "stock_high : float\n",
    "    Highest underlying price in the price range.\n",
    "strike : float\n",
    "    Strike price of the option.\n",
    "stock_increments : float\n",
    "    This is the increments in the price range. A lower increment results in\n",
    "    more price points and a better graph, but longer compute time.\n",
    "max_days : int\n",
    "    Number of days away from maturity to consider.\n",
    "\n",
    "Will use NVDA on 2/21/24 as example\n",
    "\"\"\"\n",
    "stock_low = 600\n",
    "stock_high = 900\n",
    "strike = 800\n",
    "stock_increments = 5\n",
    "max_days = 2  # 2/23/24 expiry"
   ]
  },
  {
   "cell_type": "code",
   "execution_count": null,
   "metadata": {},
   "outputs": [],
   "source": [
    "import blackscholes as bs\n",
    "import py_vollib_vectorized.api as pyvol\n",
    "import financetoolkit as fintk\n",
    "\n",
    "\n",
    "def create_greeks(vars):\n",
    "    \"\"\"Create df of greek values across stock values and dte.\"\"\"\n",
    "    stockPrice = vars[0]\n",
    "    dte = vars[1]\n",
    "    rate = 5.25\n",
    "    iv = 171  # front vol of nearest expiry\n",
    "    strikePrice = vars[2]\n",
    "    row = [stockPrice, dte, 0, 0, 0, 0, 0, 0, 0, 0, 0, 0, 0, 0]\n",
    "\n",
    "    greek = BS(\n",
    "        [stockPrice, strikePrice, interestRate, daysToExpiration], volatility=volatility\n",
    "    )"
   ]
  }
 ],
 "metadata": {
  "kernelspec": {
   "display_name": "qmd_Py3111_trial",
   "language": "python",
   "name": "py3111"
  },
  "language_info": {
   "codemirror_mode": {
    "name": "ipython",
    "version": 3
   },
   "file_extension": ".py",
   "mimetype": "text/x-python",
   "name": "python",
   "nbconvert_exporter": "python",
   "pygments_lexer": "ipython3",
   "version": "3.11.1"
  }
 },
 "nbformat": 4,
 "nbformat_minor": 2
}
