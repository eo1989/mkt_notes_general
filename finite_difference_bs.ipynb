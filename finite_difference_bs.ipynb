{
 "cells": [
  {
   "cell_type": "code",
   "execution_count": 70,
   "id": "21f9b17b",
   "metadata": {},
   "outputs": [],
   "source": [
    "import numpy as np\n",
    "import math\n",
    "from scipy import stats\n",
    "from bisect import bisect_left\n",
    "from matplotlib import pyplot as plt"
   ]
  },
  {
   "cell_type": "code",
   "execution_count": 62,
   "id": "fd861db6",
   "metadata": {},
   "outputs": [],
   "source": [
    "def finite_defference_call(r,vol,T,K,smax,M,N,S):\n",
    "    delta_t = T/M\n",
    "    delta_S = smax/N\n",
    "    f = np.zeros((N+1,M+1))\n",
    "    #満期のオプション価格\n",
    "    for i in range(N+1):\n",
    "        f[i,M] = max((i)*delta_S - K, 0)\n",
    "    #境界条件\n",
    "    for i in range (M-1,-1,-1):\n",
    "        f[0,i] = 0\n",
    "        f[N,i] = smax - np.exp(-r*(T-delta_t*i))*K\n",
    "        for j in range(1,N,1):\n",
    "            a =( r*(j) + (vol*(j))**2)*delta_t/2\n",
    "            b = 1 - ( (vol*(j))**2 + r )*delta_t\n",
    "            c =(- r*(j) + (vol*(j))**2)*delta_t/2\n",
    "            f[j,i] = a* f[j+1,i+1] + b* f[j,i+1] + c* f[j-1,i+1]\n",
    "    \n",
    "    S_0_vector = np.zeros(N+1)\n",
    "    for i in range(N+1):\n",
    "        S_0_vector[i] = i*delta_S \n",
    "    number = bisect_left(S_0_vector, S)\n",
    "    return(f[number,0])"
   ]
  },
  {
   "cell_type": "code",
   "execution_count": 65,
   "id": "ee519cdd",
   "metadata": {},
   "outputs": [
    {
     "data": {
      "text/plain": [
       "9.462484576919225"
      ]
     },
     "execution_count": 65,
     "metadata": {},
     "output_type": "execute_result"
    }
   ],
   "source": [
    "finite_defference_call(0.1,0.2,1,60,300,5000,300,62)"
   ]
  },
  {
   "cell_type": "code",
   "execution_count": null,
   "id": "2b0ae24b",
   "metadata": {},
   "outputs": [],
   "source": [
    "def blackscholes(t,s_0,K,vol,r,q,c):#tは満期までの長さ,s_0は初期の株価、Kは行使価格、qは配当、rはリスクフリーレート、c＝１でcall\n",
    "    d_1=(np.log(s_0/K)+(r-q+vol ** 2/2)*t)/vol*t**(1/2)\n",
    "    d_2=d_1-vol*t**(1/2)\n",
    "    call=s_0*math.exp(-q*t)*stats.norm.cdf(d_1)-K*math.exp(-r*t)*stats.norm.cdf(d_2)\n",
    "    put=-s_0*math.exp(-q*t)*stats.norm.cdf(-d_1)+ K*math.exp(-r*t)*stats.norm.cdf(-d_2)\n",
    "    if c ==1:\n",
    "        return(call)\n",
    "    else:\n",
    "        return(put)"
   ]
  },
  {
   "cell_type": "code",
   "execution_count": 64,
   "id": "00b20fc9",
   "metadata": {},
   "outputs": [
    {
     "data": {
      "text/plain": [
       "9.466351504972607"
      ]
     },
     "execution_count": 64,
     "metadata": {},
     "output_type": "execute_result"
    }
   ],
   "source": [
    "blackscholes(1,62,60,0.2,0.1,0,1)\n"
   ]
  },
  {
   "cell_type": "markdown",
   "id": "a3eb9706",
   "metadata": {},
   "source": [
    "安定性条件の確認"
   ]
  },
  {
   "cell_type": "code",
   "execution_count": 71,
   "id": "6eda68ef",
   "metadata": {},
   "outputs": [
    {
     "name": "stderr",
     "output_type": "stream",
     "text": [
      "/var/folders/yr/b1_5b16s0tb5h77q9g058sq80000gn/T/ipykernel_72690/1165582622.py:16: RuntimeWarning: overflow encountered in double_scalars\n",
      "  f[j,i] = a* f[j+1,i+1] + b* f[j,i+1] + c* f[j-1,i+1]\n",
      "/var/folders/yr/b1_5b16s0tb5h77q9g058sq80000gn/T/ipykernel_72690/1165582622.py:16: RuntimeWarning: invalid value encountered in double_scalars\n",
      "  f[j,i] = a* f[j+1,i+1] + b* f[j,i+1] + c* f[j-1,i+1]\n"
     ]
    },
    {
     "data": {
      "text/plain": [
       "[<matplotlib.lines.Line2D at 0x7fc63abc1d80>]"
      ]
     },
     "execution_count": 71,
     "metadata": {},
     "output_type": "execute_result"
    },
    {
     "data": {
      "image/png": "[encoded data removed]",
      "text/plain": [
       "<Figure size 640x480 with 1 Axes>"
      ]
     },
     "metadata": {},
     "output_type": "display_data"
    }
   ],
   "source": [
    "y_1 = []\n",
    "for i in range(50):\n",
    "    y_1.append(finite_defference_call(0.1,0.2,1,60,300,(i+1)*100,300,62))\n",
    "plt.plot(range(50),y_1)"
   ]
  },
  {
   "cell_type": "code",
   "execution_count": 72,
   "id": "588c22c5",
   "metadata": {},
   "outputs": [
    {
     "data": {
      "text/plain": [
       "[-2.6374854019168093e+49,\n",
       " -5.155649465197648e+103,\n",
       " -2.5111129110620075e+169,\n",
       " 6.1233769187612406e+249,\n",
       " nan,\n",
       " nan,\n",
       " nan,\n",
       " nan,\n",
       " nan,\n",
       " nan,\n",
       " nan,\n",
       " nan,\n",
       " nan,\n",
       " nan,\n",
       " nan,\n",
       " nan,\n",
       " nan,\n",
       " nan,\n",
       " nan,\n",
       " nan,\n",
       " nan,\n",
       " nan,\n",
       " nan,\n",
       " nan,\n",
       " nan,\n",
       " nan,\n",
       " nan,\n",
       " nan,\n",
       " nan,\n",
       " -5.647029339875406e+170,\n",
       " 7.930854721970195e+114,\n",
       " -8.911067549707039e+57,\n",
       " 21.90166378924706,\n",
       " 9.46255062084325,\n",
       " 9.462544724039525,\n",
       " 9.462539154840794,\n",
       " 9.462533886683401,\n",
       " 9.462528895801183,\n",
       " 9.462524160864852,\n",
       " 9.462519662678085,\n",
       " 9.462515383918033,\n",
       " 9.46251130891041,\n",
       " 9.462507423440949,\n",
       " 9.46250371458431,\n",
       " 9.4625001705687,\n",
       " 9.46249678064167,\n",
       " 9.462493534969031,\n",
       " 9.462490424533812,\n",
       " 9.462487441056455,\n",
       " 9.462484576919225]"
      ]
     },
     "execution_count": 72,
     "metadata": {},
     "output_type": "execute_result"
    }
   ],
   "source": [
    "y_1"
   ]
  },
  {
   "cell_type": "code",
   "execution_count": null,
   "id": "a82c638d",
   "metadata": {},
   "outputs": [],
   "source": []
  }
 ],
 "metadata": {
  "kernelspec": {
   "display_name": "Python 3 (ipykernel)",
   "language": "python",
   "name": "python3"
  },
  "language_info": {
   "codemirror_mode": {
    "name": "ipython",
    "version": 3
   },
   "file_extension": ".py",
   "mimetype": "text/x-python",
   "name": "python",
   "nbconvert_exporter": "python",
   "pygments_lexer": "ipython3",
   "version": "3.10.10"
  }
 },
 "nbformat": 4,
 "nbformat_minor": 5
}
