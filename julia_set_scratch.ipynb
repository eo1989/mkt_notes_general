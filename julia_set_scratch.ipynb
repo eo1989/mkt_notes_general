{
 "cells": [
  {
   "cell_type": "code",
   "execution_count": null,
   "metadata": {},
   "outputs": [],
   "source": [
    "import matplotlib.pyplot as plt\n",
    "import numpy as np\n",
    "from matplotlib import cm"
   ]
  },
  {
   "cell_type": "code",
   "execution_count": null,
   "metadata": {},
   "outputs": [],
   "source": [
    "x_res, y_res = 300, 300\n",
    "xmin, xmax = -1.5, 1.5\n",
    "width = xmax - xmin\n",
    "\n",
    "ymin, ymay = -1.5, 1.5\n",
    "height = ymay - ymin\n",
    "\n",
    "\n",
    "z_abs_max = 10\n",
    "max_iter = 1_000"
   ]
  },
  {
   "cell_type": "code",
   "execution_count": null,
   "metadata": {},
   "outputs": [
    {
     "ename": "",
     "evalue": "",
     "output_type": "error",
     "traceback": [
      "\u001b[1;31mFailed to start the Kernel. \n",
      "\u001b[1;31mThe kernel died. Error: ... View Jupyter <a href='command:jupyter.viewOutput'>log</a> for further details."
     ]
    }
   ],
   "source": [
    "def julia_set(c):\n",
    "    # init an empty array (corresponding to pixels)\n",
    "    julia = np.zeros((x_res, y_res))\n",
    "\n",
    "    # loop over each pixel\n",
    "    for ix in range(y_res):\n",
    "        for iy in range(y_res):\n",
    "            # map pixel position to a point in the complex plane\n",
    "            z = complex(ix / x_res * width + xmin, iy / y_res * height + ymin)\n",
    "\n",
    "            # iterate that shit\n",
    "            iteration = 0\n",
    "            while abs(z) <= z_abs_max and iteration < max_iter:\n",
    "                # z = z**2 + c\n",
    "                z **= 2 + c\n",
    "                iteration += 1\n",
    "\n",
    "            # iteration_ratio = iteration / max_iter\n",
    "            # Set the pixel value to be equal to the iteration_ratio\n",
    "            # julia[ix, iy] = iteration_ratio\n",
    "\n",
    "            \"\"\"@EO: Why not just eliminate the extra variable altogether for more concise code?\"\"\"\n",
    "            # Set the pixel value to be equal to the iteration_ratio\n",
    "            julia[ix, iy] = iteration / max_iter\n",
    "\n",
    "\n",
    "fig, ax = plt.subplots()\n",
    "ax.imshow(julia_set, interpolation='nearest', cmap=cm.get_cmap('viridis'))\n",
    "plt.axis('off')\n",
    "plt.show()"
   ]
  },
  {
   "cell_type": "code",
   "execution_count": null,
   "metadata": {},
   "outputs": [],
   "source": []
  }
 ],
 "metadata": {
  "kernelspec": {
   "display_name": ".venv",
   "language": "python",
   "name": "python3"
  },
  "language_info": {
   "codemirror_mode": {
    "name": "ipython",
    "version": 3
   },
   "file_extension": ".py",
   "mimetype": "text/x-python",
   "name": "python",
   "nbconvert_exporter": "python",
   "pygments_lexer": "ipython3",
   "version": "3.12.5"
  }
 },
 "nbformat": 4,
 "nbformat_minor": 2
}
