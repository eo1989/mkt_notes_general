{
 "cells": [
  {
   "cell_type": "code",
   "execution_count": 2,
   "metadata": {},
   "outputs": [],
   "source": [
    "# ruff: noqa: I001,B4,B8\n",
    "import requests as req\n",
    "import webbrowser as wb"
   ]
  },
  {
   "cell_type": "code",
   "execution_count": null,
   "metadata": {},
   "outputs": [],
   "source": [
    "URL: str = 'https://www.bestbuy.com/site/searchpage.jsp?st='\n",
    "\n",
    "CARD_DICT = {\n",
    "    \"4080\": \"https://www.bestbuy.com/site/gigabyte-nvidia-geforce-rtx-4080-super-gaming-oc-16gb-gddr6x-pci-express-4-0-graphics-card-black/6572361.p?skuId=6572361\",\n",
    "    \"4070TI\": \"https://www.bestbuy.com/site/gigabyte-nvidia-geforce-rtx-4070-ti-super-gaming-oc-16gb-gddr6x-pci-express-4-0-graphics-card-black/6572437.p?skuId=6572437\",\n",
    "    \"7900XT\": \"https://www.bestbuy.com/site/xfx-speedster-merc310-amd-radeon-rx-7900xt-20gb-gddr6-pci-express-4-0-gaming-graphics-card-black/6562528.p?skuId=6562528\",\n",
    "    \"disableButton\": \"\"\n",
    "}\n"
   ]
  }
 ],
 "metadata": {
  "kernelspec": {
   "display_name": "Py 3.12.5 (base)",
   "language": "python",
   "name": "py3125_base"
  },
  "language_info": {
   "codemirror_mode": {
    "name": "ipython",
    "version": 3
   },
   "file_extension": ".py",
   "mimetype": "text/x-python",
   "name": "python",
   "nbconvert_exporter": "python",
   "pygments_lexer": "ipython3",
   "version": "3.12.5"
  }
 },
 "nbformat": 4,
 "nbformat_minor": 2
}
