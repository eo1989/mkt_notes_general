{
 "cells": [
  {
   "cell_type": "markdown",
   "metadata": {},
   "source": [
    "# Lasso Regression\n",
    "\n",
    "- Its like the ridge regression, a **shrinkage** method, it differs in its choice of penalty:\n",
    "- Lasso regression uses the $\\mathcal{l}_1$ **penalty**, which adds the absolute value of the magnitude of coefficients to the cost function, on the parameters $\\beta$. Meaning Lasso finds an assignment to $\\beta$ that minimizes the function:\n",
    "  $$\n",
    "  f(\\beta) = ||{X\\beta - Y}||^{2}_{2} + \\lambda ||\\beta||_{1}\n",
    "  $$\n",
    "  where $\\lambda$ is a hyperparameter and, as usual, $X$ is the training data and $Y$ the observations. The $\\mathcal{l}_1$ penalty encourages **sparsity** in the learned parameters, and, as will be shown, can drive many coefficients to zero. In this sense, lasso is a continuous **feature selection** method.\n"
   ]
  },
  {
   "cell_type": "code",
   "execution_count": 1,
   "metadata": {},
   "outputs": [],
   "source": [
    "import cvxpy as cp  # to fit a lasso model, to eval it, and how to tune the hyperparameter lambda\n",
    "import numpy as np\n",
    "import matplotlib.pyplot as plt\n",
    "\n",
    "from quantflow.sp.poisson import PoissonProcess\n",
    "\n",
    "from quantflow.utils import plot\n",
    "import ipywidgets as widg\n",
    "import plotly.graph_objects as go\n"
   ]
  },
  {
   "cell_type": "code",
   "execution_count": null,
   "metadata": {},
   "outputs": [],
   "source": [
    "def simulate():\n",
    "    pr = PoissonProcess(intensity=intensity.value)\n",
    "    paths = pr.sample(samples.value, 1, 1000)\n",
    "    pdf = paths.pdf(delta=1)\n",
    "    pdf[\"simulation\"] = pdf[\"pdf\"]\n",
    "    pdf[\"analytical\"] = pr.marginal(1).pdf(pdf.index)\n",
    "    return pdf\n",
    "\n",
    "\n",
    "def on_intensity_change(change):\n",
    "    df = simulate()\n",
    "    fig.data[0].x = df.index\n",
    "    fig.data[0].y = df[\"simulation\"]\n",
    "    fig.data[1].x = df.index\n",
    "    fig.data[1].y = df[\"analytical\"]\n",
    "\n",
    "\n",
    "intensity = widg.IntSlider(description=\"intensity\")\n",
    "samples = widg.IntSlider(description=\"paths\", min=100, max=10_000, step=100)\n",
    "intensity.value = 50\n",
    "samples.value = 1000\n",
    "intensity.observe(on_intensity_change)\n",
    "samples.observe(on_intensity_change)\n",
    "\n",
    "df = simulate()\n",
    "simulation = go.Bar(x=df.index, y=df[\"simulation\"], name=\"simulation\")\n",
    "analytical = go.Scatter(x=df.index, y=df[\"analytical\"], name=\"analytical\")\n",
    "fig = go.FigureWidget(data=[simulation, analytical])\n",
    "\n",
    "widg.VBox([intensity, samples, fig])\n"
   ]
  },
  {
   "cell_type": "code",
   "execution_count": null,
   "metadata": {},
   "outputs": [],
   "source": [
    "from quantflow.sp.heston import HestonJ\n",
    "from quantflow.options.pricer import OptionPricer\n",
    "\n",
    "pricer = OptionPricer(\n",
    "    model=HestonJ.create(\n",
    "        vol=0.5,\n",
    "        kappa=2,\n",
    "        rho=-0.3,\n",
    "        sigma=0.8,\n",
    "        theta=0.36,\n",
    "        jump_fraction=0.3,\n",
    "        jump_asymmetry=1.2,\n",
    "    )\n",
    ")\n",
    "\n",
    "pricer\n"
   ]
  },
  {
   "cell_type": "code",
   "execution_count": null,
   "metadata": {},
   "outputs": [],
   "source": [
    "pricer.plot3d(max_moneyness_ttm=1.5, support=31).update_layout(\n",
    "    height=1200, title=\"Heston Volatility Surface\"\n",
    ")\n"
   ]
  },
  {
   "cell_type": "code",
   "execution_count": 1,
   "metadata": {},
   "outputs": [],
   "source": [
    "from optionvisualizer.visualizer import Visualizer\n",
    "from financetoolkit import options as opt\n",
    "from volvisualizer.volatility import Volatility"
   ]
  },
  {
   "cell_type": "code",
   "execution_count": null,
   "metadata": {},
   "outputs": [],
   "source": [
    "nvda_surf = Volatility(ticker = \"NVDA\", start_date = \"2024-05-06\", wait = 0.5, volume = 100)"
   ]
  },
  {
   "cell_type": "code",
   "execution_count": null,
   "metadata": {},
   "outputs": [],
   "source": []
  }
 ],
 "metadata": {
  "kernelspec": {
   "display_name": ".venv",
   "language": "python",
   "name": "python3"
  },
  "language_info": {
   "codemirror_mode": {
    "name": "ipython",
    "version": 3
   },
   "file_extension": ".py",
   "mimetype": "text/x-python",
   "name": "python",
   "nbconvert_exporter": "python",
   "pygments_lexer": "ipython3",
   "version": "3.12.5"
  }
 },
 "nbformat": 4,
 "nbformat_minor": 2
}
