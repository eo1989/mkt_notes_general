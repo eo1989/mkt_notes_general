{
 "cells": [
  {
   "cell_type": "raw",
   "metadata": {
    "vscode": {
     "languageId": "raw"
    }
   },
   "source": [
    "---\n",
    "title: \"LU Factorization\"\n",
    "author: \"Ernest Orlowski\"\n",
    "format: html\n",
    "categories: [\"Linear Algebra\"]\n",
    "jupyter:\n",
    "  execute: true\n",
    "  cache: true\n",
    "code-fold: true\n",
    "---"
   ]
  },
  {
   "cell_type": "code",
   "execution_count": 1,
   "metadata": {},
   "outputs": [],
   "source": [
    "import numpy as np\n",
    "import scipy as sp\n",
    "import scipy.stats as st\n",
    "import matplotlib.pyplot as plt\n",
    "import pandas as pd\n",
    "import sympy as sm\n",
    "sm.init_printing(use_latex = \"True\")\n"
   ]
  },
  {
   "cell_type": "code",
   "execution_count": 2,
   "metadata": {},
   "outputs": [],
   "source": [
    "from IPython.core.interactiveshell import InteractiveShell\n",
    "InteractiveShell.ast_node_interactivity = \"all\""
   ]
  },
  {
   "cell_type": "markdown",
   "metadata": {},
   "source": [
    "# <center>LU Factorization</center>\n",
    "---\n",
    "\n",
    "LU Factorization arises due to its computational efficiency, it mainly facilitates solving the system of linear equations, though the `flops` (number of floating point operations) of LU is still higher than the `Gaussian-Jordon` but it is still preferred due to its numerical stability and ease of implementation. Nonetheless, LU Factorization is particularly handy if you're computing multiple solutions of $Ax = b$, especially for different $b$ values. One example is, if you have a set $\\set{b_{1}{,} i\\thinspace ϵ\\thinspace 𝚭}$ such that\n",
    "> <center>$Ax = b_{1}, Ax = b_{2}, Ax = b_{3}, \\ldots, Ax = b_{n}$</center>\n",
    "\n",
    "We decompose only $A$ once, but the `Gaussian-Jordan` algorithm will have to redo operations with every augmented $[A|B_{i}]$.\n",
    "\n",
    "\n",
    "\n",
    "## <center>LU Algorithm</center>\n",
    "---\n",
    "We aim to decompose a matrix $A$ into $L$ and $U$, which represent the $\\it{lower}$ and $\\it{upper}$ triangular matrices, respectively. And $\\it{L}$ must have $1$'s on its `principal diagonal`. \n",
    "$\\it{A = LU}$\n",
    "For instance:\n",
    "\n",
    "### BELOW IS THE INCORRECT FORMAT. USE THE CORRECT ONE BELOW IT (The second one.)\n",
    "\n",
    "$$\n",
    "A = \\begin{equation}\n",
    "        {\\begin{bmatrix}\n",
    "            1 & 0 & 0 & 0 \\\\\n",
    "            * & 1 & 0 & 0 \\\\\n",
    "            * & * & 1 & 0 \\\\\n",
    "            * & * & * & 1\n",
    "        \\end{bmatrix}}\n",
    "        %\n",
    "        {\\begin{bmatrix}\n",
    "            \\blacksquare & * & * & * & * \\\\\n",
    "            0 & \\blacksquare & * & * & * \\\\\n",
    "            0 & 0 & 1 & \\blacksquare & * \\\\\n",
    "            0 & 0 & 0 & 0 & 0\n",
    "        \\end{bmatrix}}\n",
    "    \\end{equation}\n",
    "$$\n",
    "\n",
    "\n"
   ]
  },
  {
   "cell_type": "markdown",
   "metadata": {},
   "source": [
    "$$\n",
    "A=\\underbrace{\\left[\\begin{array}{cccc}\n",
    "    1 & 0 & 0 & 0 \\\\\n",
    "    * & 1 & 0 & 0 \\\\\n",
    "    * & * & 1 & 0 \\\\\n",
    "    * & * & * & 1\n",
    "\\end{array}\\right]}_{L}\n",
    "    \\underbrace{\\left[\\begin{array}{ccccc}\n",
    "        \\blacksquare & * & * & * & * \\\\\n",
    "        0 & \\blacksquare & * & * & *\\\\,\n",
    "0 & 0 & 0 & \\blacksquare & *\\\\,\n",
    "0 & 0 & 0 & 0 & 0\n",
    "\\end{array}\\right]}_{U}\n",
    "$$"
   ]
  },
  {
   "cell_type": "code",
   "execution_count": null,
   "metadata": {},
   "outputs": [],
   "source": []
  }
 ],
 "metadata": {
  "kernelspec": {
   "display_name": "Py 3.12.5 (base)",
   "language": "python",
   "name": "py3125_base"
  },
  "language_info": {
   "codemirror_mode": {
    "name": "ipython",
    "version": 3
   },
   "file_extension": ".py",
   "mimetype": "text/x-python",
   "name": "python",
   "nbconvert_exporter": "python",
   "pygments_lexer": "ipython3",
   "version": "3.12.5"
  }
 },
 "nbformat": 4,
 "nbformat_minor": 2
}
