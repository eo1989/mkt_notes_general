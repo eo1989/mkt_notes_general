{
 "cells": [
  {
   "cell_type": "code",
   "execution_count": 1,
   "metadata": {},
   "outputs": [],
   "source": [
    "import numpy as np\n",
    "import polars as pl\n",
    "from pandas_datareader import data as pdr\n",
    "import matplotlib.pyplot as plt\n",
    "import seaborn as sns\n",
    "import scipy.stats as st\n",
    "\n",
    "import yfinance as yf\n",
    "\n",
    "\n",
    "from statsmodels.tsa.stattools import coint as ct\n",
    "from datetime import datetime, timedelta, date\n"
   ]
  },
  {
   "cell_type": "code",
   "execution_count": 2,
   "metadata": {},
   "outputs": [
    {
     "name": "stdout",
     "output_type": "stream",
     "text": [
      "This class manages stonk datars\n"
     ]
    }
   ],
   "source": [
    "class Stocks:\n",
    "    def __init__(self) -> None:\n",
    "        self.dic = {}\n",
    "\n",
    "    def add(self, ticker, data):\n",
    "        self.dic[ticker] = data\n",
    "\n",
    "    def get_data(self, ticker):\n",
    "        return self.dic[ticker]\n",
    "\n",
    "    def __len__(self):\n",
    "        return len(self.dic)\n",
    "\n",
    "    @classmethod\n",
    "    def help(cls) -> str:\n",
    "        print(f\"This class manages stonk datars\")\n",
    "\n",
    "\n",
    "Stocks.help()\n"
   ]
  },
  {
   "cell_type": "code",
   "execution_count": 4,
   "metadata": {},
   "outputs": [],
   "source": [
    "tickr_list = [\"AMZN\", \"AAPL\", \"PLTR\", \"LLY\", \"LULU\", \"CRWD\", \"FTNT\", \"NVDA\"]\n",
    "_start = \"2022-01-01\"\n",
    "_end = datetime.today().strftime(\"%Y-%m-%d\")  # noqa: DTZ002, DTZ002\n"
   ]
  },
  {
   "cell_type": "code",
   "execution_count": 9,
   "metadata": {},
   "outputs": [
    {
     "name": "stderr",
     "output_type": "stream",
     "text": [
      "[*********************100%%**********************]  8 of 8 completed"
     ]
    },
    {
     "name": "stdout",
     "output_type": "stream",
     "text": [
      "Price      Adj Close                                                        \\\n",
      "Ticker          AAPL    AMZN    CRWD   FTNT     LLY    LULU    NVDA   PLTR   \n",
      "Date                                                                         \n",
      "2022-01-03    179.27  170.40  198.33  66.62  264.53  387.56   30.08  18.53   \n",
      "2022-01-04    177.00  167.52  189.19  64.43  259.74  380.82   29.25  18.17   \n",
      "2022-01-05    172.29  164.36  179.29  60.70  253.75  362.48   27.56  16.96   \n",
      "2022-01-06    169.41  163.25  187.49  62.80  252.46  368.77   28.14  16.74   \n",
      "2022-01-07    169.58  162.55  188.99  62.93  252.63  355.21   27.21  16.56   \n",
      "...              ...     ...     ...    ...     ...     ...     ...    ...   \n",
      "2024-08-07    209.58  162.77  230.67  69.93  772.14  233.44   98.91  26.32   \n",
      "2024-08-08    213.06  165.80  240.52  68.68  845.31  241.75  104.97  29.28   \n",
      "2024-08-09    215.99  166.94  240.90  69.69  891.68  238.72  104.75  30.01   \n",
      "2024-08-12    217.53  166.80  239.34  70.36  884.38  239.70  109.02  29.38   \n",
      "2024-08-13    221.27  170.23  248.11  71.50  908.05  241.95  116.14  30.39   \n",
      "\n",
      "Price        Close          ...    Open            Volume                     \\\n",
      "Ticker        AAPL    AMZN  ...    NVDA   PLTR       AAPL      AMZN     CRWD   \n",
      "Date                        ...                                                \n",
      "2022-01-03  182.01  170.40  ...   29.82  18.36  104487900  63520000  5311600   \n",
      "2022-01-04  179.70  167.52  ...   30.28  18.61   99310400  70726000  6503400   \n",
      "2022-01-05  174.92  164.36  ...   28.95  18.03   94537600  64302000  5003400   \n",
      "2022-01-06  172.00  163.25  ...   27.64  16.87   96904000  51958000  6368600   \n",
      "2022-01-07  172.17  162.55  ...   28.14  16.70   86709100  46606000  3531900   \n",
      "...            ...     ...  ...     ...    ...        ...       ...      ...   \n",
      "2024-08-07  209.82  162.77  ...  107.81  27.07   63516400  48408200  9349000   \n",
      "2024-08-08  213.31  165.80  ...  102.00  27.04   47161100  44616200  6675000   \n",
      "2024-08-09  216.24  166.94  ...  105.64  29.28   42201600  36401000  5938900   \n",
      "2024-08-12  217.53  166.80  ...  106.32  30.22   38028100  30072800  3729400   \n",
      "2024-08-13  221.27  170.23  ...  112.44  29.79   44095400  38883000  5106000   \n",
      "\n",
      "Price                                                        \n",
      "Ticker          FTNT      LLY     LULU       NVDA      PLTR  \n",
      "Date                                                         \n",
      "2022-01-03   9515000  2621300  1321900  391547000  34283600  \n",
      "2022-01-04   9829000  2340500  1199600  527154000  39643200  \n",
      "2022-01-05  12033000  3004200  1543600  498064000  58445900  \n",
      "2022-01-06  12004000  2863200  1660200  454186000  49737100  \n",
      "2022-01-07   8805000  2245100  2212200  409939000  37989300  \n",
      "...              ...      ...      ...        ...       ...  \n",
      "2024-08-07  23535600  4407700  1545100  411440400  75975400  \n",
      "2024-08-08  10955100  9434900  1762400  391910000  96892900  \n",
      "2024-08-09   6988600  6587600  1289800  290844200  88131100  \n",
      "2024-08-12   6173300  4206100  1412000  325559900  67890300  \n",
      "2024-08-13   5523600  3504100  1859400  311092200  57118200  \n",
      "\n",
      "[656 rows x 48 columns]\n"
     ]
    },
    {
     "name": "stderr",
     "output_type": "stream",
     "text": [
      "\n"
     ]
    }
   ],
   "source": [
    "stocks = Stocks()\n",
    "data_frames = {}\n",
    "\n",
    "# for ticker in tickr_list:\n",
    "_df = yf.download(tickr_list, start=_start, end=_end, rounding=True)\n",
    "# data_frames[ticker] = _df\n",
    "# stocks.add(ticker, _df)\n",
    "# print(data_frames)\n",
    "print(_df)"
   ]
  },
  {
   "cell_type": "code",
   "execution_count": null,
   "metadata": {},
   "outputs": [],
   "source": [
    "_df"
   ]
  },
  {
   "cell_type": "code",
   "execution_count": null,
   "metadata": {},
   "outputs": [],
   "source": [
    "print(ticker[:])"
   ]
  },
  {
   "cell_type": "code",
   "execution_count": null,
   "metadata": {},
   "outputs": [],
   "source": []
  }
 ],
 "metadata": {
  "kernelspec": {
   "display_name": "WinPy3.12sys",
   "language": "python",
   "name": "win_pyenv3.12"
  },
  "language_info": {
   "codemirror_mode": {
    "name": "ipython",
    "version": 3
   },
   "file_extension": ".py",
   "mimetype": "text/x-python",
   "name": "python",
   "nbconvert_exporter": "python",
   "pygments_lexer": "ipython3",
   "version": "3.12.0"
  }
 },
 "nbformat": 4,
 "nbformat_minor": 2
}
