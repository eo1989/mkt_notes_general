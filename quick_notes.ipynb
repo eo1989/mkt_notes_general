{
 "cells": [
  {
   "cell_type": "code",
   "execution_count": 10,
   "id": "e933aa3c",
   "metadata": {},
   "outputs": [],
   "source": [
    "import numpy as np\n",
    "import matplotlib.pyplot as plt\n",
    "\n",
    "# np.set_printoptions(precision=5)\n",
    "import polars as pl\n",
    "import arviz as az\n",
    "import pymc as pm\n",
    "import aleatory as al"
   ]
  },
  {
   "cell_type": "code",
   "execution_count": 11,
   "id": "cf4345bb",
   "metadata": {},
   "outputs": [],
   "source": [
    "rng = np.random.default_rng(42)\n"
   ]
  },
  {
   "cell_type": "code",
   "execution_count": 12,
   "id": "1a5b0588",
   "metadata": {},
   "outputs": [
    {
     "data": {
      "text/plain": [
       "array([[ 3.3344224 ,  0.00963006,  1.29650589,  0.57349885,  1.049512  ],\n",
       "       [ 0.00963006,  2.30251259, -1.95558098,  0.32559182,  2.55686795],\n",
       "       [ 1.29650589, -1.95558098,  3.08160959, -0.24565571, -1.63929328],\n",
       "       [ 0.57349885,  0.32559182, -0.24565571,  2.9511713 , -1.27141509],\n",
       "       [ 1.049512  ,  2.55686795, -1.63929328, -1.27141509,  4.93874455]])"
      ]
     },
     "execution_count": 12,
     "metadata": {},
     "output_type": "execute_result"
    }
   ],
   "source": [
    "X = rng.standard_normal((5, 5))\n",
    "\n",
    "mat = X.T @ X\n",
    "mat"
   ]
  },
  {
   "cell_type": "code",
   "execution_count": 13,
   "id": "8e4a5a8f",
   "metadata": {},
   "outputs": [
    {
     "data": {
      "text/plain": [
       "array([[ 7.84438443e-01,  4.63616701e-01, -4.48384959e-01,\n",
       "        -5.40160666e-01, -6.94607117e-01],\n",
       "       [ 4.63616701e-01,  3.60721302e+00,  9.40885274e-01,\n",
       "        -1.26218773e+00, -1.97866405e+00],\n",
       "       [-4.48384959e-01,  9.40885274e-01,  1.11493368e+00,\n",
       "         7.50942259e-02, -2.42061387e-03],\n",
       "       [-5.40160666e-01, -1.26218773e+00,  7.50942259e-02,\n",
       "         1.04717109e+00,  1.06274844e+00],\n",
       "       [-6.94607117e-01, -1.97866405e+00, -2.42061387e-03,\n",
       "         1.06274844e+00,  1.64726226e+00]])"
      ]
     },
     "execution_count": 13,
     "metadata": {},
     "output_type": "execute_result"
    }
   ],
   "source": [
    "np.linalg.inv(mat)"
   ]
  },
  {
   "cell_type": "code",
   "execution_count": 14,
   "id": "4dc7edc1",
   "metadata": {},
   "outputs": [
    {
     "data": {
      "text/plain": [
       "array([[ 1.00000000e+00,  6.32751543e-17,  7.11223859e-17,\n",
       "        -2.83647591e-16, -1.74703982e-16],\n",
       "       [ 7.18014023e-16,  1.00000000e+00, -2.05089525e-18,\n",
       "        -5.26707534e-16, -4.26785971e-16],\n",
       "       [-2.25655718e-16,  8.76405113e-16,  1.00000000e+00,\n",
       "        -2.20136069e-16, -2.43593233e-16],\n",
       "       [-3.51927064e-17, -5.90839458e-16,  2.31690112e-17,\n",
       "         1.00000000e+00,  4.75266669e-16],\n",
       "       [ 2.22044605e-16, -3.55271368e-15, -4.44089210e-16,\n",
       "         0.00000000e+00,  1.00000000e+00]])"
      ]
     },
     "execution_count": 14,
     "metadata": {},
     "output_type": "execute_result"
    }
   ],
   "source": [
    "mat @ np.linalg.inv(mat)"
   ]
  },
  {
   "cell_type": "code",
   "execution_count": 15,
   "id": "8ed69606",
   "metadata": {},
   "outputs": [
    {
     "data": {
      "text/plain": [
       "array([[ 3.3344224 ,  0.00963006,  1.29650589,  0.57349885,  1.049512  ],\n",
       "       [ 0.00963006,  2.30251259, -1.95558098,  0.32559182,  2.55686795],\n",
       "       [ 1.29650589, -1.95558098,  3.08160959, -0.24565571, -1.63929328],\n",
       "       [ 0.57349885,  0.32559182, -0.24565571,  2.9511713 , -1.27141509],\n",
       "       [ 1.049512  ,  2.55686795, -1.63929328, -1.27141509,  4.93874455]])"
      ]
     },
     "execution_count": 15,
     "metadata": {},
     "output_type": "execute_result"
    }
   ],
   "source": [
    "X.T.dot(X)"
   ]
  },
  {
   "cell_type": "code",
   "execution_count": 16,
   "id": "0a28f88e",
   "metadata": {},
   "outputs": [],
   "source": [
    "import random"
   ]
  },
  {
   "cell_type": "code",
   "execution_count": 17,
   "id": "5b835d74",
   "metadata": {},
   "outputs": [],
   "source": [
    "position = 0\n",
    "walk = [position]\n",
    "nsteps = 1_000\n"
   ]
  },
  {
   "cell_type": "code",
   "execution_count": 18,
   "id": "3ab12af0",
   "metadata": {},
   "outputs": [],
   "source": [
    "for _ in range(nsteps):\n",
    "    step = 1 if random.randint(0, 1) else -1\n",
    "    position += step\n",
    "    walk.append(position)"
   ]
  },
  {
   "cell_type": "code",
   "execution_count": 19,
   "id": "4fee29da",
   "metadata": {},
   "outputs": [
    {
     "data": {
      "text/plain": [
       "[<matplotlib.lines.Line2D at 0x168002a50>]"
      ]
     },
     "execution_count": 19,
     "metadata": {},
     "output_type": "execute_result"
    },
    {
     "data": {
      "image/png": "[encoded data removed]",
      "text/plain": [
       "<Figure size 640x480 with 1 Axes>"
      ]
     },
     "metadata": {},
     "output_type": "display_data"
    }
   ],
   "source": [
    "plt.plot(walk[:100])"
   ]
  },
  {
   "cell_type": "code",
   "execution_count": 20,
   "id": "240b5201",
   "metadata": {},
   "outputs": [],
   "source": [
    "nsteps = 1_000\n",
    "rng = np.random.default_rng(seed=12345)  # fresh seed\n",
    "draws = rng.integers(0, 2, size=nsteps)\n",
    "\n",
    "steps = np.where(draws == 0, 1, -1)\n",
    "walk = steps.cumsum()\n",
    "# from here we can begin to extract stats like the min and max value along the walks trajectory\n"
   ]
  },
  {
   "cell_type": "code",
   "execution_count": 21,
   "id": "4802e2c9",
   "metadata": {},
   "outputs": [
    {
     "data": {
      "text/plain": [
       "np.int64(-8)"
      ]
     },
     "execution_count": 21,
     "metadata": {},
     "output_type": "execute_result"
    }
   ],
   "source": [
    "walk.min()"
   ]
  },
  {
   "cell_type": "code",
   "execution_count": 22,
   "id": "ffdb3338",
   "metadata": {},
   "outputs": [
    {
     "data": {
      "text/plain": [
       "np.int64(50)"
      ]
     },
     "execution_count": 22,
     "metadata": {},
     "output_type": "execute_result"
    }
   ],
   "source": [
    "walk.max()"
   ]
  },
  {
   "cell_type": "markdown",
   "id": "800a3f22",
   "metadata": {},
   "source": [
    "- A more complicated statistic is the _first crossing time_, the step at which the random walk reaches a particular value. Here we might want to know how long it took the random walk to get at least 10 steps away from the origin in either direction. `np.abs(walk) >= 10` gives us a boolean array indicating where the walk has reached or exceeded 10, but we want the index of the _first_ 10 or -10. Turns out, we can compute this using argmax, which returns the first index of the maximum value in the boolean array (True is the maximum value):\n"
   ]
  },
  {
   "cell_type": "code",
   "execution_count": 23,
   "id": "a467f523",
   "metadata": {},
   "outputs": [
    {
     "data": {
      "text/plain": [
       "np.int64(155)"
      ]
     },
     "execution_count": 23,
     "metadata": {},
     "output_type": "execute_result"
    }
   ],
   "source": [
    "(np.abs(walk) >= 10).argmax()"
   ]
  },
  {
   "cell_type": "markdown",
   "id": "0e0fda13",
   "metadata": {},
   "source": [
    "- Note that using `argmax` here isnt always efficient because it always makes a full scan of the array. In this special case, once a `True` is observed we know it to be the maximum value.\n"
   ]
  },
  {
   "cell_type": "code",
   "execution_count": 24,
   "id": "a8aa3b18",
   "metadata": {},
   "outputs": [
    {
     "data": {
      "text/plain": [
       "array([[  1,   2,   3, ...,  22,  23,  22],\n",
       "       [  1,   0,  -1, ..., -50, -49, -48],\n",
       "       [  1,   2,   3, ...,  50,  49,  48],\n",
       "       ...,\n",
       "       [ -1,  -2,  -1, ..., -10,  -9, -10],\n",
       "       [ -1,  -2,  -3, ...,   8,   9,   8],\n",
       "       [ -1,   0,   1, ...,  -4,  -3,  -2]])"
      ]
     },
     "execution_count": 24,
     "metadata": {},
     "output_type": "execute_result"
    }
   ],
   "source": [
    "nwalks = 5_000\n",
    "n_steps = 1_000\n",
    "draws = rng.integers(0, 2, size=(nwalks, n_steps))  # 0 or 1\n",
    "steps = np.where(draws > 0, 1, -1)\n",
    "walks = steps.cumsum(axis=1)\n",
    "walks"
   ]
  },
  {
   "cell_type": "code",
   "execution_count": 25,
   "id": "b8e527bf",
   "metadata": {},
   "outputs": [
    {
     "data": {
      "text/plain": [
       "np.int64(114)"
      ]
     },
     "execution_count": 25,
     "metadata": {},
     "output_type": "execute_result"
    }
   ],
   "source": [
    "walks.max()"
   ]
  },
  {
   "cell_type": "code",
   "execution_count": 26,
   "id": "959173cd",
   "metadata": {},
   "outputs": [
    {
     "data": {
      "text/plain": [
       "np.int64(-120)"
      ]
     },
     "execution_count": 26,
     "metadata": {},
     "output_type": "execute_result"
    }
   ],
   "source": [
    "walks.min()"
   ]
  },
  {
   "cell_type": "markdown",
   "id": "a913e92f",
   "metadata": {},
   "source": [
    "Lets compute the minimum crossing time to |30|. Slightly tricky bc not all 5,000 of them reach 30. We can check this using the `any` method.\n"
   ]
  },
  {
   "cell_type": "code",
   "execution_count": 27,
   "id": "c2361817",
   "metadata": {},
   "outputs": [
    {
     "data": {
      "text/plain": [
       "array([False,  True,  True, ...,  True, False,  True])"
      ]
     },
     "execution_count": 27,
     "metadata": {},
     "output_type": "execute_result"
    }
   ],
   "source": [
    "hits30 = (np.abs(walks) >= 30).any(axis=1)\n",
    "hits30"
   ]
  },
  {
   "cell_type": "code",
   "execution_count": 28,
   "id": "51c35f0f",
   "metadata": {},
   "outputs": [
    {
     "data": {
      "text/plain": [
       "np.int64(3395)"
      ]
     },
     "execution_count": 28,
     "metadata": {},
     "output_type": "execute_result"
    }
   ],
   "source": [
    "hits30.sum()  # number that hit |30|"
   ]
  },
  {
   "cell_type": "markdown",
   "id": "1a109fa3",
   "metadata": {},
   "source": [
    "Use this boolean array to select the rows of walks that actually cross the |30| level, and call `argmax` across axis 1 to get the crossing times:\n"
   ]
  },
  {
   "cell_type": "code",
   "execution_count": 29,
   "id": "55e531a2",
   "metadata": {},
   "outputs": [
    {
     "data": {
      "text/plain": [
       "array([201, 491, 283, ..., 219, 259, 541])"
      ]
     },
     "execution_count": 29,
     "metadata": {},
     "output_type": "execute_result"
    }
   ],
   "source": [
    "crossing_times = (np.abs(walks[hits30]) >= 30).argmax(axis=1)\n",
    "crossing_times"
   ]
  },
  {
   "cell_type": "code",
   "execution_count": 30,
   "id": "17e74f6f",
   "metadata": {},
   "outputs": [
    {
     "data": {
      "text/plain": [
       "np.float64(500.5699558173785)"
      ]
     },
     "execution_count": 30,
     "metadata": {},
     "output_type": "execute_result"
    }
   ],
   "source": [
    "# compute teh avg minimum crossing time\n",
    "crossing_times.mean()"
   ]
  },
  {
   "cell_type": "code",
   "execution_count": 32,
   "id": "d3005b3c",
   "metadata": {},
   "outputs": [
    {
     "data": {
      "text/plain": [
       "array([[ 3.93412554e-01,  1.91760393e-01, -2.68838712e-01, ...,\n",
       "         6.49571736e-02,  2.30678783e-01, -1.46605736e-01],\n",
       "       [ 7.50281084e-02, -2.31642667e-01,  3.48210776e-01, ...,\n",
       "         9.08536095e-02, -7.88924500e-02, -2.77116166e-02],\n",
       "       [-4.53416129e-04,  9.38041843e-02, -1.37977032e-01, ...,\n",
       "        -2.30077034e-01,  3.36572365e-01,  1.63960481e-01],\n",
       "       ...,\n",
       "       [-8.95627722e-02,  1.51582795e-01, -1.67003345e-01, ...,\n",
       "        -9.42934639e-02, -5.24502460e-01,  3.74770605e-01],\n",
       "       [ 5.23416023e-01, -4.15522086e-01, -9.50569378e-02, ...,\n",
       "         3.61357438e-01,  1.90006203e-02,  1.18884549e-02],\n",
       "       [ 1.27026552e-01,  3.03780377e-01, -2.15250834e-01, ...,\n",
       "        -2.25211815e-01, -2.47241170e-01,  1.94010562e-01]])"
      ]
     },
     "execution_count": 32,
     "metadata": {},
     "output_type": "execute_result"
    }
   ],
   "source": [
    "draws = 0.25 * rng.standard_normal((nwalks, n_steps))\n",
    "draws"
   ]
  },
  {
   "cell_type": "code",
   "execution_count": 37,
   "id": "8ce966ff",
   "metadata": {},
   "outputs": [
    {
     "data": {
      "image/png": "[encoded data removed]",
      "text/plain": [
       "<Figure size 640x480 with 4 Axes>"
      ]
     },
     "metadata": {},
     "output_type": "display_data"
    }
   ],
   "source": [
    "fig, axes = plt.subplots(2, 2, sharex=True, sharey=True)\n",
    "for i in range(2):\n",
    "    for j in range(2):\n",
    "        axes[i, j].hist(\n",
    "            rng.standard_normal(500), bins=50, color=\"black\", alpha=0.5\n",
    "        )\n",
    "fig.subplots_adjust(wspace=0, hspace=0)"
   ]
  },
  {
   "cell_type": "code",
   "execution_count": 39,
   "id": "07c183fc",
   "metadata": {},
   "outputs": [
    {
     "data": {
      "image/png": "[encoded data removed]",
      "text/plain": [
       "<Figure size 640x480 with 4 Axes>"
      ]
     },
     "metadata": {},
     "output_type": "display_data"
    }
   ],
   "source": [
    "fig, axes = plt.subplots(2, 2, sharex=True, sharey=True)\n",
    "for i in range(2):\n",
    "    for j in range(2):\n",
    "        data = rng.standard_normal(500)\n",
    "        axes[i, j].hist(data, bins=50, color=\"black\", alpha=0.5)\n",
    "        axes[i, j].axvline(data.mean(), color=\"red\", linestyle=\"--\")\n",
    "        # plt.axvline(data.mean())\n",
    "fig.subplots_adjust(wspace=0, hspace=0)"
   ]
  },
  {
   "cell_type": "code",
   "execution_count": 40,
   "id": "304510f2",
   "metadata": {},
   "outputs": [
    {
     "data": {
      "image/png": "[encoded data removed]",
      "text/plain": [
       "<Figure size 640x480 with 4 Axes>"
      ]
     },
     "metadata": {},
     "output_type": "display_data"
    }
   ],
   "source": [
    "fig, axes = plt.subplots(2, 2, sharex=True, sharey=True)\n",
    "for i in range(2):\n",
    "    for j in range(2):\n",
    "        data = rng.standard_normal(500)\n",
    "        axes[i, j].hist(data, bins=50, color=\"black\", alpha=0.5)\n",
    "        # axes[i, j].axvline(data.mean(), color=\"red\", linestyle=\"--\")\n",
    "        plt.axvline(data.mean())\n",
    "fig.subplots_adjust(wspace=0, hspace=0)"
   ]
  },
  {
   "cell_type": "code",
   "execution_count": null,
   "id": "606e1850",
   "metadata": {},
   "outputs": [],
   "source": []
  }
 ],
 "metadata": {
  "kernelspec": {
   "display_name": "Gen",
   "language": "python",
   "name": "gen"
  },
  "language_info": {
   "codemirror_mode": {
    "name": "ipython",
    "version": 3
   },
   "file_extension": ".py",
   "mimetype": "text/x-python",
   "name": "python",
   "nbconvert_exporter": "python",
   "pygments_lexer": "ipython3",
   "version": "3.12.7"
  }
 },
 "nbformat": 4,
 "nbformat_minor": 5
}
